{
 "cells": [
  {
   "metadata": {},
   "cell_type": "markdown",
   "source": "# 制作一个自己会选择工具的"
  },
  {
   "metadata": {},
   "cell_type": "markdown",
   "source": "##  设置下环境"
  },
  {
   "cell_type": "code",
   "metadata": {
    "ExecuteTime": {
     "end_time": "2024-09-14T08:22:07.258834Z",
     "start_time": "2024-09-14T08:22:07.247868Z"
    }
   },
   "source": [
    "# 使用 %cd 魔法命令更改工作目录\n",
    "import os\n",
    "%cd .\\\\\n",
    "# 打印当前工作目录以确认更改\n",
    "print(f\"当前工作目录: {os.getcwd()}\")"
   ],
   "outputs": [
    {
     "name": "stdout",
     "output_type": "stream",
     "text": [
      "[WinError 2] 系统找不到指定的文件。: '.\\\\ # 打印当前工作目录以确认更改'\n",
      "D:\\code\\law_llama_system\n",
      "当前工作目录: D:\\code\\law_llama_system\n"
     ]
    }
   ],
   "execution_count": 3
  },
  {
   "cell_type": "code",
   "metadata": {
    "ExecuteTime": {
     "end_time": "2024-09-14T08:21:00.439026Z",
     "start_time": "2024-09-14T08:21:00.421087Z"
    }
   },
   "source": [
    "\n",
    "import logging\n",
    "import sys\n",
    "logging.basicConfig(stream=sys.stdout, level=logging.INFO)"
   ],
   "outputs": [],
   "execution_count": 2
  },
  {
   "cell_type": "code",
   "metadata": {
    "ExecuteTime": {
     "end_time": "2024-09-14T08:22:30.212476Z",
     "start_time": "2024-09-14T08:22:28.006977Z"
    }
   },
   "source": [
    "from llama_index.core import VectorStoreIndex, Settings\n",
    "from llama_index.core.indices.query.query_transform import HyDEQueryTransform\n",
    "from llama_index.core.query_engine import TransformQueryEngine\n",
    "from model import DeepseekAi\n",
    "from llama_index.core.tools import QueryEngineTool,ToolMetadata\n",
    "from llama_index.vector_stores.chroma import ChromaVectorStore"
   ],
   "outputs": [],
   "execution_count": 4
  },
  {
   "metadata": {
    "ExecuteTime": {
     "end_time": "2024-09-14T08:23:20.007897Z",
     "start_time": "2024-09-14T08:23:19.684459Z"
    }
   },
   "cell_type": "code",
   "source": [
    "from init_model import get_embedding\n",
    "from config import Config"
   ],
   "outputs": [],
   "execution_count": 6
  },
  {
   "metadata": {
    "ExecuteTime": {
     "end_time": "2024-09-14T08:23:21.289129Z",
     "start_time": "2024-09-14T08:23:21.278167Z"
    }
   },
   "cell_type": "code",
   "source": [
    "llm_model = DeepseekAi(**Config.get_openai_like_config())\n",
    "embedding_model = get_embedding()"
   ],
   "outputs": [],
   "execution_count": 7
  },
  {
   "metadata": {
    "ExecuteTime": {
     "end_time": "2024-09-14T08:23:24.986344Z",
     "start_time": "2024-09-14T08:23:24.766371Z"
    }
   },
   "cell_type": "code",
   "source": [
    "Settings.llm = llm_model\n",
    "Settings.embed_model = embedding_model"
   ],
   "outputs": [],
   "execution_count": 8
  },
  {
   "metadata": {
    "ExecuteTime": {
     "end_time": "2024-09-14T08:23:35.652447Z",
     "start_time": "2024-09-14T08:23:35.346979Z"
    }
   },
   "cell_type": "code",
   "source": [
    "import chromadb\n",
    "db  = chromadb.PersistentClient(\"\"\".\\\\LawDb\"\"\")\n",
    "law_db = db.get_collection(\"law\")\n",
    "law_collection = ChromaVectorStore(chroma_collection=law_db)\n",
    "law_index = VectorStoreIndex.from_vector_store(vector_store=law_collection,embed_model=embedding_model)"
   ],
   "outputs": [
    {
     "name": "stdout",
     "output_type": "stream",
     "text": [
      "INFO:chromadb.telemetry.product.posthog:Anonymized telemetry enabled. See                     https://docs.trychroma.com/telemetry for more information.\n"
     ]
    }
   ],
   "execution_count": 9
  },
  {
   "metadata": {
    "ExecuteTime": {
     "end_time": "2024-09-14T08:23:37.302022Z",
     "start_time": "2024-09-14T08:23:37.285818Z"
    }
   },
   "cell_type": "code",
   "source": "l_e = law_index.as_query_engine()",
   "outputs": [],
   "execution_count": 10
  },
  {
   "metadata": {
    "ExecuteTime": {
     "end_time": "2024-09-14T08:23:45.258675Z",
     "start_time": "2024-09-14T08:23:38.954405Z"
    }
   },
   "cell_type": "code",
   "source": "l_e.query(\"\"\"偷税漏税的定义。\"\"\")",
   "outputs": [
    {
     "name": "stdout",
     "output_type": "stream",
     "text": [
      "INFO:httpx:HTTP Request: POST https://api.deepseek.com/chat/completions \"HTTP/1.1 200 OK\"\n"
     ]
    },
    {
     "data": {
      "text/plain": [
       "Response(response='偷税漏税是指纳税人故意不缴或少缴应纳税款的行为。这种行为包括但不限于编造虚假计税依据、不进行纳税申报、欠缴应纳税款并采取转移或隐匿财产的手段妨碍税务机关追缴税款等。对于偷税漏税行为，税务机关有权追缴其不缴或少缴的税款、滞纳金，并处以相应罚款；构成犯罪的，还将依法追究刑事责任。', source_nodes=[NodeWithScore(node=TextNode(id_='3b213d42-0671-4e07-83fe-8338761fc958', embedding=None, metadata={'file_path': 'E:\\\\law_llama_system\\\\Law-Book\\\\5-经济法\\\\税收征收管理法（2015-04-24）.md', 'file_name': '税收征收管理法（2015-04-24）.md', 'file_size': 33879, 'creation_date': '2024-09-12', 'last_modified_date': '2024-01-22'}, excluded_embed_metadata_keys=['file_name', 'file_type', 'file_size', 'creation_date', 'last_modified_date', 'last_accessed_date'], excluded_llm_metadata_keys=['file_name', 'file_type', 'file_size', 'creation_date', 'last_modified_date', 'last_accessed_date'], relationships={<NodeRelationship.SOURCE: '1'>: RelatedNodeInfo(node_id='3d34aacc-6941-46e1-a703-66da8b661575', node_type=<ObjectType.DOCUMENT: '4'>, metadata={'file_path': 'E:\\\\law_llama_system\\\\Law-Book\\\\5-经济法\\\\税收征收管理法（2015-04-24）.md', 'file_name': '税收征收管理法（2015-04-24）.md', 'file_size': 33879, 'creation_date': '2024-09-12', 'last_modified_date': '2024-01-22'}, hash='fcf3324a40a4285937dbee676e4c5e042e0aec8094af5db5cd8e25bbb957e29f'), <NodeRelationship.PREVIOUS: '2'>: RelatedNodeInfo(node_id='2532e6d1-9d41-45d5-988f-3742b85c47eb', node_type=<ObjectType.TEXT: '1'>, metadata={'file_path': 'E:\\\\law_llama_system\\\\Law-Book\\\\5-经济法\\\\税收征收管理法（2015-04-24）.md', 'file_name': '税收征收管理法（2015-04-24）.md', 'file_size': 33879, 'creation_date': '2024-09-12', 'last_modified_date': '2024-01-22'}, hash='f6ec6dad173859950c8a3559fe3168a009cf930f3105f455b1b4128fcd627d69'), <NodeRelationship.NEXT: '3'>: RelatedNodeInfo(node_id='82201f01-d839-4792-83d5-d5f9578fc418', node_type=<ObjectType.TEXT: '1'>, metadata={}, hash='19d927daf763afaeb82c117ec72241649ec44a9fd53fa1d57d5855e3e633448b')}, text='对纳税人偷税的，由税务机关追缴其不缴或者少缴的税款、滞纳金，并处不缴或者少缴的税款百分之五十以上五倍以下的罚款；构成犯罪的，依法追究刑事责任。\\n\\n扣缴义务人采取前款所列手段，不缴或者少缴已扣、已收税款，由税务机关追缴其不缴或者少缴的税款、滞纳金，并处不缴或者少缴的税款百分之五十以上五倍以下的罚款；构成犯罪的，依法追究刑事责任。\\n\\n第六十四条 纳税人、扣缴义务人编造虚假计税依据的，由税务机关责令限期改正，并处五万元以下的罚款。\\n\\n纳税人不进行纳税申报，不缴或者少缴应纳税款的，由税务机关追缴其不缴或者少缴的税款、滞纳金，并处不缴或者少缴的税款百分之五十以上五倍以下的罚款。\\n\\n第六十五条 纳税人欠缴应纳税款，采取转移或者隐匿财产的手段，妨碍税务机关追缴欠缴的税款的，由税务机关追缴欠缴的税款、滞纳金，并处欠缴税款百分之五十以上五倍以下的罚款；构成犯罪的，依法追究刑事责任。\\n\\n第六十六条 以假报出口或者其他欺骗手段，骗取国家出口退税款的，由税务机关追缴其骗取的退税款，并处骗取税款一倍以上五倍以下的罚款；构成犯罪的，依法追究刑事责任。\\n\\n对骗取国家出口退税款的，税务机关可以在规定期间内停止为其办理出口退税。\\n\\n第六十七条 以暴力、威胁方法拒不缴纳税款的，是抗税，除由税务机关追缴其拒缴的税款、滞纳金外，依法追究刑事责任。情节轻微，未构成犯罪的，由税务机关追缴其拒缴的税款、滞纳金，并处拒缴税款一倍以上五倍以下的罚款。\\n\\n第六十八条 纳税人、扣缴义务人在规定期限内不缴或者少缴应纳或者应解缴的税款，经税务机关责令限期缴纳，逾期仍未缴纳的，税务机关除依照本法第四十条的规定采取强制执行措施追缴其不缴或者少缴的税款外，可以处不缴或者少缴的税款百分之五十以上五倍以下的罚款。\\n\\n第六十九条 扣缴义务人应扣未扣、应收而不收税款的，由税务机关向纳税人追缴税款，对扣缴义务人处应扣未扣、应收未收税款百分之五十以上三倍以下的罚款。', mimetype='text/plain', start_char_idx=711, end_char_idx=1520, text_template='{metadata_str}\\n\\n{content}', metadata_template='{key}: {value}', metadata_seperator='\\n'), score=0.5068652968552947), NodeWithScore(node=TextNode(id_='98079596-14fa-4877-8f08-67ae20495acb', embedding=None, metadata={'file_path': 'D:\\\\code\\\\law_llama_system\\\\Law-Book\\\\5-经济法\\\\税收征收管理法（2015-04-24）.md', 'file_name': '税收征收管理法（2015-04-24）.md', 'file_size': 33879, 'creation_date': '2024-09-13', 'last_modified_date': '2024-01-22'}, excluded_embed_metadata_keys=['file_name', 'file_type', 'file_size', 'creation_date', 'last_modified_date', 'last_accessed_date'], excluded_llm_metadata_keys=['file_name', 'file_type', 'file_size', 'creation_date', 'last_modified_date', 'last_accessed_date'], relationships={<NodeRelationship.SOURCE: '1'>: RelatedNodeInfo(node_id='7c5eccd2-ab65-42e0-a7e4-6e0e056a2b51', node_type=<ObjectType.DOCUMENT: '4'>, metadata={'file_path': 'D:\\\\code\\\\law_llama_system\\\\Law-Book\\\\5-经济法\\\\税收征收管理法（2015-04-24）.md', 'file_name': '税收征收管理法（2015-04-24）.md', 'file_size': 33879, 'creation_date': '2024-09-13', 'last_modified_date': '2024-01-22'}, hash='d19b9148ee5894eb0a9bb7826fe9ae908f88b5d07b0f9473639ea86af271ddb0'), <NodeRelationship.PREVIOUS: '2'>: RelatedNodeInfo(node_id='d763adb1-1f4f-4dd5-b322-578b59e95abc', node_type=<ObjectType.TEXT: '1'>, metadata={'file_path': 'D:\\\\code\\\\law_llama_system\\\\Law-Book\\\\5-经济法\\\\税收征收管理法（2015-04-24）.md', 'file_name': '税收征收管理法（2015-04-24）.md', 'file_size': 33879, 'creation_date': '2024-09-13', 'last_modified_date': '2024-01-22'}, hash='cc0a0c35cbd3e6509929ae034f7677f988d9cebc4da0e756dfaa0115efec618f'), <NodeRelationship.NEXT: '3'>: RelatedNodeInfo(node_id='1fb0c25a-b142-4240-a340-46ed293ba518', node_type=<ObjectType.TEXT: '1'>, metadata={}, hash='19d927daf763afaeb82c117ec72241649ec44a9fd53fa1d57d5855e3e633448b')}, text='对纳税人偷税的，由税务机关追缴其不缴或者少缴的税款、滞纳金，并处不缴或者少缴的税款百分之五十以上五倍以下的罚款；构成犯罪的，依法追究刑事责任。\\n\\n扣缴义务人采取前款所列手段，不缴或者少缴已扣、已收税款，由税务机关追缴其不缴或者少缴的税款、滞纳金，并处不缴或者少缴的税款百分之五十以上五倍以下的罚款；构成犯罪的，依法追究刑事责任。\\n\\n第六十四条 纳税人、扣缴义务人编造虚假计税依据的，由税务机关责令限期改正，并处五万元以下的罚款。\\n\\n纳税人不进行纳税申报，不缴或者少缴应纳税款的，由税务机关追缴其不缴或者少缴的税款、滞纳金，并处不缴或者少缴的税款百分之五十以上五倍以下的罚款。\\n\\n第六十五条 纳税人欠缴应纳税款，采取转移或者隐匿财产的手段，妨碍税务机关追缴欠缴的税款的，由税务机关追缴欠缴的税款、滞纳金，并处欠缴税款百分之五十以上五倍以下的罚款；构成犯罪的，依法追究刑事责任。\\n\\n第六十六条 以假报出口或者其他欺骗手段，骗取国家出口退税款的，由税务机关追缴其骗取的退税款，并处骗取税款一倍以上五倍以下的罚款；构成犯罪的，依法追究刑事责任。\\n\\n对骗取国家出口退税款的，税务机关可以在规定期间内停止为其办理出口退税。\\n\\n第六十七条 以暴力、威胁方法拒不缴纳税款的，是抗税，除由税务机关追缴其拒缴的税款、滞纳金外，依法追究刑事责任。情节轻微，未构成犯罪的，由税务机关追缴其拒缴的税款、滞纳金，并处拒缴税款一倍以上五倍以下的罚款。\\n\\n第六十八条 纳税人、扣缴义务人在规定期限内不缴或者少缴应纳或者应解缴的税款，经税务机关责令限期缴纳，逾期仍未缴纳的，税务机关除依照本法第四十条的规定采取强制执行措施追缴其不缴或者少缴的税款外，可以处不缴或者少缴的税款百分之五十以上五倍以下的罚款。\\n\\n第六十九条 扣缴义务人应扣未扣、应收而不收税款的，由税务机关向纳税人追缴税款，对扣缴义务人处应扣未扣、应收未收税款百分之五十以上三倍以下的罚款。', mimetype='text/plain', start_char_idx=711, end_char_idx=1520, text_template='{metadata_str}\\n\\n{content}', metadata_template='{key}: {value}', metadata_seperator='\\n'), score=0.5016433413655498)], metadata={'3b213d42-0671-4e07-83fe-8338761fc958': {'file_path': 'E:\\\\law_llama_system\\\\Law-Book\\\\5-经济法\\\\税收征收管理法（2015-04-24）.md', 'file_name': '税收征收管理法（2015-04-24）.md', 'file_size': 33879, 'creation_date': '2024-09-12', 'last_modified_date': '2024-01-22'}, '98079596-14fa-4877-8f08-67ae20495acb': {'file_path': 'D:\\\\code\\\\law_llama_system\\\\Law-Book\\\\5-经济法\\\\税收征收管理法（2015-04-24）.md', 'file_name': '税收征收管理法（2015-04-24）.md', 'file_size': 33879, 'creation_date': '2024-09-13', 'last_modified_date': '2024-01-22'}})"
      ]
     },
     "execution_count": 11,
     "metadata": {},
     "output_type": "execute_result"
    }
   ],
   "execution_count": 11
  },
  {
   "metadata": {
    "ExecuteTime": {
     "end_time": "2024-09-14T08:24:04.435141Z",
     "start_time": "2024-09-14T08:24:04.419194Z"
    }
   },
   "cell_type": "code",
   "source": "law_engine = law_index.as_query_engine(similarity_top_k=3)",
   "outputs": [],
   "execution_count": 12
  },
  {
   "metadata": {
    "ExecuteTime": {
     "end_time": "2024-09-14T08:24:06.056216Z",
     "start_time": "2024-09-14T08:24:06.039225Z"
    }
   },
   "cell_type": "code",
   "source": "hyde = HyDEQueryTransform(include_original=True)",
   "outputs": [],
   "execution_count": 13
  },
  {
   "metadata": {
    "ExecuteTime": {
     "end_time": "2024-09-14T08:24:08.595031Z",
     "start_time": "2024-09-14T08:24:08.586060Z"
    }
   },
   "cell_type": "code",
   "source": "law_hyde_engine = TransformQueryEngine(law_engine, hyde)",
   "outputs": [],
   "execution_count": 14
  },
  {
   "metadata": {
    "ExecuteTime": {
     "end_time": "2024-09-14T08:24:31.843559Z",
     "start_time": "2024-09-14T08:24:12.224598Z"
    }
   },
   "cell_type": "code",
   "source": "law_hyde_engine.query(\"\"\"偷税漏税的定义\"\"\")",
   "outputs": [
    {
     "name": "stdout",
     "output_type": "stream",
     "text": [
      "INFO:httpx:HTTP Request: POST https://api.deepseek.com/chat/completions \"HTTP/1.1 200 OK\"\n",
      "INFO:httpx:HTTP Request: POST https://api.deepseek.com/chat/completions \"HTTP/1.1 200 OK\"\n"
     ]
    },
    {
     "data": {
      "text/plain": [
       "Response(response='偷税漏税是指纳税人采取欺骗、隐瞒手段进行虚假纳税申报或者不申报，逃避缴纳税款的行为。这种行为可能导致税务机关无法正常征收应纳税款，从而影响国家税收的正常秩序。', source_nodes=[NodeWithScore(node=TextNode(id_='3b213d42-0671-4e07-83fe-8338761fc958', embedding=None, metadata={'file_path': 'E:\\\\law_llama_system\\\\Law-Book\\\\5-经济法\\\\税收征收管理法（2015-04-24）.md', 'file_name': '税收征收管理法（2015-04-24）.md', 'file_size': 33879, 'creation_date': '2024-09-12', 'last_modified_date': '2024-01-22'}, excluded_embed_metadata_keys=['file_name', 'file_type', 'file_size', 'creation_date', 'last_modified_date', 'last_accessed_date'], excluded_llm_metadata_keys=['file_name', 'file_type', 'file_size', 'creation_date', 'last_modified_date', 'last_accessed_date'], relationships={<NodeRelationship.SOURCE: '1'>: RelatedNodeInfo(node_id='3d34aacc-6941-46e1-a703-66da8b661575', node_type=<ObjectType.DOCUMENT: '4'>, metadata={'file_path': 'E:\\\\law_llama_system\\\\Law-Book\\\\5-经济法\\\\税收征收管理法（2015-04-24）.md', 'file_name': '税收征收管理法（2015-04-24）.md', 'file_size': 33879, 'creation_date': '2024-09-12', 'last_modified_date': '2024-01-22'}, hash='fcf3324a40a4285937dbee676e4c5e042e0aec8094af5db5cd8e25bbb957e29f'), <NodeRelationship.PREVIOUS: '2'>: RelatedNodeInfo(node_id='2532e6d1-9d41-45d5-988f-3742b85c47eb', node_type=<ObjectType.TEXT: '1'>, metadata={'file_path': 'E:\\\\law_llama_system\\\\Law-Book\\\\5-经济法\\\\税收征收管理法（2015-04-24）.md', 'file_name': '税收征收管理法（2015-04-24）.md', 'file_size': 33879, 'creation_date': '2024-09-12', 'last_modified_date': '2024-01-22'}, hash='f6ec6dad173859950c8a3559fe3168a009cf930f3105f455b1b4128fcd627d69'), <NodeRelationship.NEXT: '3'>: RelatedNodeInfo(node_id='82201f01-d839-4792-83d5-d5f9578fc418', node_type=<ObjectType.TEXT: '1'>, metadata={}, hash='19d927daf763afaeb82c117ec72241649ec44a9fd53fa1d57d5855e3e633448b')}, text='对纳税人偷税的，由税务机关追缴其不缴或者少缴的税款、滞纳金，并处不缴或者少缴的税款百分之五十以上五倍以下的罚款；构成犯罪的，依法追究刑事责任。\\n\\n扣缴义务人采取前款所列手段，不缴或者少缴已扣、已收税款，由税务机关追缴其不缴或者少缴的税款、滞纳金，并处不缴或者少缴的税款百分之五十以上五倍以下的罚款；构成犯罪的，依法追究刑事责任。\\n\\n第六十四条 纳税人、扣缴义务人编造虚假计税依据的，由税务机关责令限期改正，并处五万元以下的罚款。\\n\\n纳税人不进行纳税申报，不缴或者少缴应纳税款的，由税务机关追缴其不缴或者少缴的税款、滞纳金，并处不缴或者少缴的税款百分之五十以上五倍以下的罚款。\\n\\n第六十五条 纳税人欠缴应纳税款，采取转移或者隐匿财产的手段，妨碍税务机关追缴欠缴的税款的，由税务机关追缴欠缴的税款、滞纳金，并处欠缴税款百分之五十以上五倍以下的罚款；构成犯罪的，依法追究刑事责任。\\n\\n第六十六条 以假报出口或者其他欺骗手段，骗取国家出口退税款的，由税务机关追缴其骗取的退税款，并处骗取税款一倍以上五倍以下的罚款；构成犯罪的，依法追究刑事责任。\\n\\n对骗取国家出口退税款的，税务机关可以在规定期间内停止为其办理出口退税。\\n\\n第六十七条 以暴力、威胁方法拒不缴纳税款的，是抗税，除由税务机关追缴其拒缴的税款、滞纳金外，依法追究刑事责任。情节轻微，未构成犯罪的，由税务机关追缴其拒缴的税款、滞纳金，并处拒缴税款一倍以上五倍以下的罚款。\\n\\n第六十八条 纳税人、扣缴义务人在规定期限内不缴或者少缴应纳或者应解缴的税款，经税务机关责令限期缴纳，逾期仍未缴纳的，税务机关除依照本法第四十条的规定采取强制执行措施追缴其不缴或者少缴的税款外，可以处不缴或者少缴的税款百分之五十以上五倍以下的罚款。\\n\\n第六十九条 扣缴义务人应扣未扣、应收而不收税款的，由税务机关向纳税人追缴税款，对扣缴义务人处应扣未扣、应收未收税款百分之五十以上三倍以下的罚款。', mimetype='text/plain', start_char_idx=711, end_char_idx=1520, text_template='{metadata_str}\\n\\n{content}', metadata_template='{key}: {value}', metadata_seperator='\\n'), score=0.6195916496381951), NodeWithScore(node=TextNode(id_='98079596-14fa-4877-8f08-67ae20495acb', embedding=None, metadata={'file_path': 'D:\\\\code\\\\law_llama_system\\\\Law-Book\\\\5-经济法\\\\税收征收管理法（2015-04-24）.md', 'file_name': '税收征收管理法（2015-04-24）.md', 'file_size': 33879, 'creation_date': '2024-09-13', 'last_modified_date': '2024-01-22'}, excluded_embed_metadata_keys=['file_name', 'file_type', 'file_size', 'creation_date', 'last_modified_date', 'last_accessed_date'], excluded_llm_metadata_keys=['file_name', 'file_type', 'file_size', 'creation_date', 'last_modified_date', 'last_accessed_date'], relationships={<NodeRelationship.SOURCE: '1'>: RelatedNodeInfo(node_id='7c5eccd2-ab65-42e0-a7e4-6e0e056a2b51', node_type=<ObjectType.DOCUMENT: '4'>, metadata={'file_path': 'D:\\\\code\\\\law_llama_system\\\\Law-Book\\\\5-经济法\\\\税收征收管理法（2015-04-24）.md', 'file_name': '税收征收管理法（2015-04-24）.md', 'file_size': 33879, 'creation_date': '2024-09-13', 'last_modified_date': '2024-01-22'}, hash='d19b9148ee5894eb0a9bb7826fe9ae908f88b5d07b0f9473639ea86af271ddb0'), <NodeRelationship.PREVIOUS: '2'>: RelatedNodeInfo(node_id='d763adb1-1f4f-4dd5-b322-578b59e95abc', node_type=<ObjectType.TEXT: '1'>, metadata={'file_path': 'D:\\\\code\\\\law_llama_system\\\\Law-Book\\\\5-经济法\\\\税收征收管理法（2015-04-24）.md', 'file_name': '税收征收管理法（2015-04-24）.md', 'file_size': 33879, 'creation_date': '2024-09-13', 'last_modified_date': '2024-01-22'}, hash='cc0a0c35cbd3e6509929ae034f7677f988d9cebc4da0e756dfaa0115efec618f'), <NodeRelationship.NEXT: '3'>: RelatedNodeInfo(node_id='1fb0c25a-b142-4240-a340-46ed293ba518', node_type=<ObjectType.TEXT: '1'>, metadata={}, hash='19d927daf763afaeb82c117ec72241649ec44a9fd53fa1d57d5855e3e633448b')}, text='对纳税人偷税的，由税务机关追缴其不缴或者少缴的税款、滞纳金，并处不缴或者少缴的税款百分之五十以上五倍以下的罚款；构成犯罪的，依法追究刑事责任。\\n\\n扣缴义务人采取前款所列手段，不缴或者少缴已扣、已收税款，由税务机关追缴其不缴或者少缴的税款、滞纳金，并处不缴或者少缴的税款百分之五十以上五倍以下的罚款；构成犯罪的，依法追究刑事责任。\\n\\n第六十四条 纳税人、扣缴义务人编造虚假计税依据的，由税务机关责令限期改正，并处五万元以下的罚款。\\n\\n纳税人不进行纳税申报，不缴或者少缴应纳税款的，由税务机关追缴其不缴或者少缴的税款、滞纳金，并处不缴或者少缴的税款百分之五十以上五倍以下的罚款。\\n\\n第六十五条 纳税人欠缴应纳税款，采取转移或者隐匿财产的手段，妨碍税务机关追缴欠缴的税款的，由税务机关追缴欠缴的税款、滞纳金，并处欠缴税款百分之五十以上五倍以下的罚款；构成犯罪的，依法追究刑事责任。\\n\\n第六十六条 以假报出口或者其他欺骗手段，骗取国家出口退税款的，由税务机关追缴其骗取的退税款，并处骗取税款一倍以上五倍以下的罚款；构成犯罪的，依法追究刑事责任。\\n\\n对骗取国家出口退税款的，税务机关可以在规定期间内停止为其办理出口退税。\\n\\n第六十七条 以暴力、威胁方法拒不缴纳税款的，是抗税，除由税务机关追缴其拒缴的税款、滞纳金外，依法追究刑事责任。情节轻微，未构成犯罪的，由税务机关追缴其拒缴的税款、滞纳金，并处拒缴税款一倍以上五倍以下的罚款。\\n\\n第六十八条 纳税人、扣缴义务人在规定期限内不缴或者少缴应纳或者应解缴的税款，经税务机关责令限期缴纳，逾期仍未缴纳的，税务机关除依照本法第四十条的规定采取强制执行措施追缴其不缴或者少缴的税款外，可以处不缴或者少缴的税款百分之五十以上五倍以下的罚款。\\n\\n第六十九条 扣缴义务人应扣未扣、应收而不收税款的，由税务机关向纳税人追缴税款，对扣缴义务人处应扣未扣、应收未收税款百分之五十以上三倍以下的罚款。', mimetype='text/plain', start_char_idx=711, end_char_idx=1520, text_template='{metadata_str}\\n\\n{content}', metadata_template='{key}: {value}', metadata_seperator='\\n'), score=0.613108800264916), NodeWithScore(node=TextNode(id_='45d18ed3-f25c-4019-9fbe-0667a72afb73', embedding=None, metadata={'file_path': 'E:\\\\law_llama_system\\\\Law-Book\\\\7-刑法\\\\刑法.md', 'file_name': '刑法.md', 'file_size': 217091, 'creation_date': '2024-09-12', 'last_modified_date': '2024-01-22'}, excluded_embed_metadata_keys=['file_name', 'file_type', 'file_size', 'creation_date', 'last_modified_date', 'last_accessed_date'], excluded_llm_metadata_keys=['file_name', 'file_type', 'file_size', 'creation_date', 'last_modified_date', 'last_accessed_date'], relationships={<NodeRelationship.SOURCE: '1'>: RelatedNodeInfo(node_id='7e80c154-c290-4072-a664-0936d68adabf', node_type=<ObjectType.DOCUMENT: '4'>, metadata={'file_path': 'E:\\\\law_llama_system\\\\Law-Book\\\\7-刑法\\\\刑法.md', 'file_name': '刑法.md', 'file_size': 217091, 'creation_date': '2024-09-12', 'last_modified_date': '2024-01-22'}, hash='c65e7f39afc92a2962a550eac34ba65a86f3ae03327784942911bc8d2494f610'), <NodeRelationship.NEXT: '3'>: RelatedNodeInfo(node_id='cddead8f-41b7-4e00-8ce6-29826b2ea9cf', node_type=<ObjectType.TEXT: '1'>, metadata={}, hash='e9fbcb046d91849a43bbbee770c583f731aabc3444a139b70b0069d88d26c694')}, text='第六节 危害税收征管罪\\n\\n第二百零一条 纳税人采取欺骗、隐瞒手段进行虚假纳税申报或者不申报，逃避缴纳税款数额较大并且占应纳税额百分之十以上的，处三年以下有期徒刑或者拘役，并处罚金；数额巨大并且占应纳税额百分之三十以上的，处三年以上七年以下有期徒刑，并处罚金。\\n\\n扣缴义务人采取前款所列手段，不缴或者少缴已扣、已收税款，数额较大的，依照前款的规定处罚。\\n\\n对多次实施前两款行为，未经处理的，按照累计数额计算。\\n\\n有第一款行为，经税务机关依法下达追缴通知后，补缴应纳税款，缴纳滞纳金，已受行政处罚的，不予追究刑事责任；但是，五年内因逃避缴纳税款受过刑事处罚或者被税务机关给予二次以上行政处罚的除外。\\n\\n第二百零二条 以暴力、威胁方法拒不缴纳税款的，处三年以下有期徒刑或者拘役，并处拒缴税款一倍以上五倍以下罚金；情节严重的，处三年以上七年以下有期徒刑，并处拒缴税款一倍以上五倍以下罚金。\\n\\n第二百零三条 纳税人欠缴应纳税款，采取转移或者隐匿财产的手段，致使税务机关无法追缴欠缴的税款，数额在一万元以上不满十万元的，处三年以下有期徒刑或者拘役，并处或者单处欠缴税款一倍以上五倍以下罚金；数额在十万元以上的，处三年以上七年以下有期徒刑，并处欠缴税款一倍以上五倍以下罚金。\\n\\n第二百零四条 以假报出口或者其他欺骗手段，骗取国家出口退税款，数额较大的，处五年以下有期徒刑或者拘役，并处骗取税款一倍以上五倍以下罚金；数额巨大或者有其他严重情节的，处五年以上十年以下有期徒刑，并处骗取税款一倍以上五倍以下罚金；数额特别巨大或者有其他特别严重情节的，处十年以上有期徒刑或者无期徒刑，并处骗取税款一倍以上五倍以下罚金或者没收财产。\\n\\n纳税人缴纳税款后，采取前款规定的欺骗方法，骗取所缴纳的税款的，依照本法第二百零一条的规定定罪处罚；骗取税款超过所缴纳的税款部分，依照前款的规定处罚。', mimetype='text/plain', start_char_idx=2, end_char_idx=782, text_template='{metadata_str}\\n\\n{content}', metadata_template='{key}: {value}', metadata_seperator='\\n'), score=0.5576808017433749)], metadata={'3b213d42-0671-4e07-83fe-8338761fc958': {'file_path': 'E:\\\\law_llama_system\\\\Law-Book\\\\5-经济法\\\\税收征收管理法（2015-04-24）.md', 'file_name': '税收征收管理法（2015-04-24）.md', 'file_size': 33879, 'creation_date': '2024-09-12', 'last_modified_date': '2024-01-22'}, '98079596-14fa-4877-8f08-67ae20495acb': {'file_path': 'D:\\\\code\\\\law_llama_system\\\\Law-Book\\\\5-经济法\\\\税收征收管理法（2015-04-24）.md', 'file_name': '税收征收管理法（2015-04-24）.md', 'file_size': 33879, 'creation_date': '2024-09-13', 'last_modified_date': '2024-01-22'}, '45d18ed3-f25c-4019-9fbe-0667a72afb73': {'file_path': 'E:\\\\law_llama_system\\\\Law-Book\\\\7-刑法\\\\刑法.md', 'file_name': '刑法.md', 'file_size': 217091, 'creation_date': '2024-09-12', 'last_modified_date': '2024-01-22'}})"
      ]
     },
     "execution_count": 15,
     "metadata": {},
     "output_type": "execute_result"
    }
   ],
   "execution_count": 15
  },
  {
   "metadata": {
    "ExecuteTime": {
     "end_time": "2024-09-14T08:25:38.244692Z",
     "start_time": "2024-09-14T08:25:38.238712Z"
    }
   },
   "cell_type": "code",
   "source": [
    "query_engine_tools=[\n",
    "    QueryEngineTool(\n",
    "        query_engine=law_hyde_engine,\n",
    "        metadata = ToolMetadata(\n",
    "            name=\"law_tools\",\n",
    "            description=\"\"\"\n",
    "             用户询问关于法律的任何信息时，调用此工具。\n",
    "            \"\"\"\n",
    "        )\n",
    "    ),    \n",
    "]"
   ],
   "outputs": [],
   "execution_count": 16
  },
  {
   "metadata": {
    "ExecuteTime": {
     "end_time": "2024-09-14T08:25:41.257488Z",
     "start_time": "2024-09-14T08:25:41.063640Z"
    }
   },
   "cell_type": "code",
   "source": [
    "from llama_index.core.agent.react.types import (\n",
    "    ObservationReasoningStep\n",
    ")\n",
    "from llama_index.core.agent import Task, AgentChatResponse\n",
    "\n",
    "from llama_index.core.query_pipeline import (\n",
    "    AgentInputComponent, AgentFnComponent\n",
    ")\n",
    "from typing import Dict, Any, List"
   ],
   "outputs": [],
   "execution_count": 17
  },
  {
   "metadata": {
    "ExecuteTime": {
     "end_time": "2024-09-14T08:25:43.679063Z",
     "start_time": "2024-09-14T08:25:43.669091Z"
    }
   },
   "cell_type": "code",
   "source": [
    "def agent_input_fn(task:Task,state:Dict[str,Any]) -> Dict[str,Any]:\n",
    "    if \"current_reasoning\" not in state:\n",
    "        state[\"current_reasoning\"] = []\n",
    "    reasoning_step = ObservationReasoningStep(observation=task.input)\n",
    "    state[\"current_reasoning\"].append(reasoning_step)\n",
    "    return {\"input\":task.input}\n",
    "\n",
    "agent_input_component = AgentInputComponent(fn=agent_input_fn)"
   ],
   "outputs": [],
   "execution_count": 18
  },
  {
   "metadata": {
    "ExecuteTime": {
     "end_time": "2024-09-14T08:25:45.903662Z",
     "start_time": "2024-09-14T08:25:45.887129Z"
    }
   },
   "cell_type": "code",
   "source": [
    "from llama_index.core.agent import ReActChatFormatter\n",
    "from llama_index.core.tools import BaseTool"
   ],
   "outputs": [],
   "execution_count": 19
  },
  {
   "metadata": {
    "ExecuteTime": {
     "end_time": "2024-09-14T08:25:47.419265Z",
     "start_time": "2024-09-14T08:25:47.399862Z"
    }
   },
   "cell_type": "code",
   "source": [
    "def react_prompt_fn(task:Task,state:Dict[str,Any],input:str,tools:List[BaseTool]) -> Dict[str,Any]:\n",
    "    chat_formatter= ReActChatFormatter()\n",
    "    return chat_formatter.format(\n",
    "        tools,\n",
    "        chat_history=task.memory.get() + state[\"memory\"].get_all(),\n",
    "        current_reasoning=state[\"current_reasoning\"],\n",
    "    )\n",
    "\n",
    "react_prompt_component = AgentFnComponent(fn=react_prompt_fn)"
   ],
   "outputs": [],
   "execution_count": 20
  },
  {
   "metadata": {
    "ExecuteTime": {
     "end_time": "2024-09-14T08:25:49.287972Z",
     "start_time": "2024-09-14T08:25:49.280001Z"
    }
   },
   "cell_type": "code",
   "source": [
    "\n",
    "from llama_index.core.agent.react.output_parser import ReActOutputParser\n",
    "from llama_index.core.llms import ChatResponse\n",
    "from llama_index.core.agent.types import Task\n"
   ],
   "outputs": [],
   "execution_count": 21
  },
  {
   "metadata": {
    "ExecuteTime": {
     "end_time": "2024-09-14T08:25:50.964229Z",
     "start_time": "2024-09-14T08:25:50.947285Z"
    }
   },
   "cell_type": "code",
   "source": [
    "def parse_react_output_fn(\n",
    "    task: Task, state: Dict[str, Any], chat_response: ChatResponse\n",
    "):\n",
    "    \"\"\"Parse ReAct output into a reasoning step.\"\"\"\n",
    "    output_parser = ReActOutputParser()\n",
    "    reasoning_step = output_parser.parse(chat_response.message.content)\n",
    "    return {\"done\": reasoning_step.is_done, \"reasoning_step\": reasoning_step}\n",
    "\n",
    "parse_react_output = AgentFnComponent(fn=parse_react_output_fn)"
   ],
   "outputs": [],
   "execution_count": 22
  },
  {
   "metadata": {
    "ExecuteTime": {
     "end_time": "2024-09-14T08:25:53.455309Z",
     "start_time": "2024-09-14T08:25:53.436374Z"
    }
   },
   "cell_type": "code",
   "source": "parse_react_output",
   "outputs": [
    {
     "data": {
      "text/plain": [
       "AgentFnComponent(partial_dict={}, fn=<function parse_react_output_fn at 0x0000026F5F554CA0>, async_fn=None)"
      ]
     },
     "execution_count": 23,
     "metadata": {},
     "output_type": "execute_result"
    }
   ],
   "execution_count": 23
  },
  {
   "metadata": {
    "ExecuteTime": {
     "end_time": "2024-09-14T08:25:55.726294Z",
     "start_time": "2024-09-14T08:25:55.711344Z"
    }
   },
   "cell_type": "code",
   "source": [
    "from llama_index.core.query_pipeline import ToolRunnerComponent\n",
    "from llama_index.core.agent.react.types import ActionReasoningStep\n",
    "\n",
    "\n",
    "def run_tool_fn(\n",
    "        task: Task, state: Dict[str, Any], reasoning_step: ActionReasoningStep\n",
    "):\n",
    "    \"\"\"Run tool and process tool output.\"\"\"\n",
    "    tool_runner_component = ToolRunnerComponent(\n",
    "        query_engine_tools, callback_manager=task.callback_manager\n",
    "    )\n",
    "    tool_output = tool_runner_component.run_component(\n",
    "        tool_name=reasoning_step.action,\n",
    "        tool_input=reasoning_step.action_input,\n",
    "    )\n",
    "    observation_step = ObservationReasoningStep(\n",
    "        observation=str(tool_output[\"output\"])\n",
    "    )\n",
    "\n",
    "    state[\"current_reasoning\"].append(observation_step)\n",
    "    # TODO: get output\n",
    "\n",
    "    print(state)\n",
    "\n",
    "    return {\"response_str\": observation_step.get_content(), \"is_done\": False}\n",
    "\n",
    "\n",
    "run_tool = AgentFnComponent(fn=run_tool_fn)"
   ],
   "outputs": [],
   "execution_count": 24
  },
  {
   "metadata": {
    "ExecuteTime": {
     "end_time": "2024-09-14T08:26:03.132855Z",
     "start_time": "2024-09-14T08:26:03.115911Z"
    }
   },
   "cell_type": "code",
   "source": [
    "from llama_index.core.llms import ChatMessage, MessageRole\n",
    "from llama_index.core.agent.react.types import ResponseReasoningStep\n",
    "\n",
    "\n",
    "def process_response_fn(\n",
    "        task: Task, state: Dict[str, Any], response_step: ResponseReasoningStep\n",
    "):\n",
    "    \"\"\"Process response.\"\"\"\n",
    "    state[\"current_reasoning\"].append(response_step)\n",
    "    response_str = response_step.response\n",
    "    # Now that we're done with this step, put into memory\n",
    "    state[\"memory\"].put(ChatMessage(content=task.input, role=MessageRole.USER))\n",
    "    state[\"memory\"].put(\n",
    "        ChatMessage(content=response_str, role=MessageRole.ASSISTANT)\n",
    "    )\n",
    "\n",
    "    return {\"response_str\": response_str, \"is_done\": True}\n",
    "\n",
    "\n",
    "process_response = AgentFnComponent(fn=process_response_fn)"
   ],
   "outputs": [],
   "execution_count": 25
  },
  {
   "metadata": {
    "ExecuteTime": {
     "end_time": "2024-09-14T08:26:05.021800Z",
     "start_time": "2024-09-14T08:26:05.002828Z"
    }
   },
   "cell_type": "code",
   "source": [
    "def process_agent_response_fn(\n",
    "        task: Task, state: Dict[str, Any], response_dict: dict\n",
    "):\n",
    "    \"\"\"Process agent response.\"\"\"\n",
    "    return (\n",
    "        AgentChatResponse(response_dict[\"response_str\"]),\n",
    "        response_dict[\"is_done\"],\n",
    "    )\n",
    "\n",
    "\n",
    "process_agent_response = AgentFnComponent(fn=process_agent_response_fn)"
   ],
   "outputs": [],
   "execution_count": 26
  },
  {
   "metadata": {
    "ExecuteTime": {
     "end_time": "2024-09-14T08:26:06.855751Z",
     "start_time": "2024-09-14T08:26:06.839808Z"
    }
   },
   "cell_type": "code",
   "source": [
    "from llama_index.core.query_pipeline import QueryPipeline as QP\n",
    "\n",
    "qp = QP(verbose=True)\n",
    "\n",
    "qp.add_modules(\n",
    "    {\n",
    "        \"agent_input\": agent_input_component,\n",
    "        \"react_prompt\": react_prompt_component,\n",
    "        \"llm\": llm_model,\n",
    "        \"react_output_parser\": parse_react_output,\n",
    "        \"run_tool\": run_tool,\n",
    "        \"process_response\": process_response,\n",
    "        \"process_agent_response\": process_agent_response,\n",
    "    }\n",
    ")"
   ],
   "outputs": [],
   "execution_count": 27
  },
  {
   "metadata": {
    "ExecuteTime": {
     "end_time": "2024-09-14T08:26:08.838715Z",
     "start_time": "2024-09-14T08:26:08.823927Z"
    }
   },
   "cell_type": "code",
   "source": [
    "qp.add_chain([\"agent_input\", \"react_prompt\", \"llm\", \"react_output_parser\"])\n",
    "\n",
    "# add conditional link from react output to tool call (if not done)\n",
    "qp.add_link(\n",
    "    \"react_output_parser\",\n",
    "    \"run_tool\",\n",
    "    condition_fn=lambda x: not x[\"done\"],\n",
    "    input_fn=lambda x: x[\"reasoning_step\"],\n",
    ")\n",
    "# add conditional link from react output to final response processing (if done)\n",
    "qp.add_link(\n",
    "    \"react_output_parser\",\n",
    "    \"process_response\",\n",
    "    condition_fn=lambda x: x[\"done\"],\n",
    "    input_fn=lambda x: x[\"reasoning_step\"],\n",
    ")\n",
    "\n",
    "# whether response processing or tool output processing, add link to final agent response\n",
    "qp.add_link(\"process_response\", \"process_agent_response\")\n",
    "qp.add_link(\"run_tool\", \"process_agent_response\")"
   ],
   "outputs": [],
   "execution_count": 28
  },
  {
   "metadata": {
    "ExecuteTime": {
     "end_time": "2024-09-14T08:26:12.722549Z",
     "start_time": "2024-09-14T08:26:12.703567Z"
    }
   },
   "cell_type": "code",
   "source": [
    "from llama_index.core.agent import QueryPipelineAgentWorker\n",
    "from llama_index.core.callbacks import CallbackManager\n",
    "agent_worker = QueryPipelineAgentWorker(qp)\n",
    "agent = agent_worker.as_agent(\n",
    "    callback_manager=CallbackManager([]), verbose=True\n",
    ")"
   ],
   "outputs": [
    {
     "name": "stderr",
     "output_type": "stream",
     "text": [
      "C:\\Users\\59470\\AppData\\Local\\Temp\\ipykernel_8620\\778835632.py:3: DeprecationWarning: Call to deprecated class QueryPipelineAgentWorker. (Use `FnAgentWorker` instead to build a stateful agent.)\n",
      "  agent_worker = QueryPipelineAgentWorker(qp)\n"
     ]
    }
   ],
   "execution_count": 29
  },
  {
   "metadata": {
    "ExecuteTime": {
     "end_time": "2024-09-14T08:26:15.474405Z",
     "start_time": "2024-09-14T08:26:15.467430Z"
    }
   },
   "cell_type": "code",
   "source": [
    "task = agent.create_task(\n",
    "    \"杀人犯什么法律？\"\n",
    ")"
   ],
   "outputs": [],
   "execution_count": 30
  },
  {
   "metadata": {
    "ExecuteTime": {
     "end_time": "2024-09-14T08:26:17.815323Z",
     "start_time": "2024-09-14T08:26:17.623277Z"
    }
   },
   "cell_type": "code",
   "source": "step_output = agent.run_step(task.task_id)",
   "outputs": [
    {
     "name": "stdout",
     "output_type": "stream",
     "text": [
      "> Running step 836a3dde-98bb-4067-bf6f-f5d40bbef71b. Step input: 杀人犯什么法律？\n",
      "\u001B[1;3;38;2;155;135;227m> Running module agent_input with input: \n",
      "state: {'sources': [], 'memory': ChatMemoryBuffer(chat_store=SimpleChatStore(store={}), chat_store_key='chat_history', token_limit=3000, tokenizer_fn=functools.partial(<bound method Encoding.encode of <Encod...\n",
      "task: task_id='272ad52e-a408-442d-b55b-ce28c8dfc168' input='杀人犯什么法律？' memory=ChatMemoryBuffer(chat_store=SimpleChatStore(store={}), chat_store_key='chat_history', token_limit=3000, tokenizer_fn=functools.pa...\n",
      "\n",
      "\u001B[0m"
     ]
    },
    {
     "ename": "ValueError",
     "evalue": "Module input keys must have exactly one key if dest_key is not specified. Remaining keys: in module: {'input', 'tools'}",
     "output_type": "error",
     "traceback": [
      "\u001B[1;31m---------------------------------------------------------------------------\u001B[0m",
      "\u001B[1;31mValueError\u001B[0m                                Traceback (most recent call last)",
      "Cell \u001B[1;32mIn[31], line 1\u001B[0m\n\u001B[1;32m----> 1\u001B[0m step_output \u001B[38;5;241m=\u001B[39m \u001B[43magent\u001B[49m\u001B[38;5;241;43m.\u001B[39;49m\u001B[43mrun_step\u001B[49m\u001B[43m(\u001B[49m\u001B[43mtask\u001B[49m\u001B[38;5;241;43m.\u001B[39;49m\u001B[43mtask_id\u001B[49m\u001B[43m)\u001B[49m\n",
      "File \u001B[1;32mD:\\Interpreter\\envs\\llama\\lib\\site-packages\\llama_index\\core\\instrumentation\\dispatcher.py:265\u001B[0m, in \u001B[0;36mDispatcher.span.<locals>.wrapper\u001B[1;34m(func, instance, args, kwargs)\u001B[0m\n\u001B[0;32m    257\u001B[0m \u001B[38;5;28mself\u001B[39m\u001B[38;5;241m.\u001B[39mspan_enter(\n\u001B[0;32m    258\u001B[0m     id_\u001B[38;5;241m=\u001B[39mid_,\n\u001B[0;32m    259\u001B[0m     bound_args\u001B[38;5;241m=\u001B[39mbound_args,\n\u001B[1;32m   (...)\u001B[0m\n\u001B[0;32m    262\u001B[0m     tags\u001B[38;5;241m=\u001B[39mtags,\n\u001B[0;32m    263\u001B[0m )\n\u001B[0;32m    264\u001B[0m \u001B[38;5;28;01mtry\u001B[39;00m:\n\u001B[1;32m--> 265\u001B[0m     result \u001B[38;5;241m=\u001B[39m func(\u001B[38;5;241m*\u001B[39margs, \u001B[38;5;241m*\u001B[39m\u001B[38;5;241m*\u001B[39mkwargs)\n\u001B[0;32m    266\u001B[0m \u001B[38;5;28;01mexcept\u001B[39;00m \u001B[38;5;167;01mBaseException\u001B[39;00m \u001B[38;5;28;01mas\u001B[39;00m e:\n\u001B[0;32m    267\u001B[0m     \u001B[38;5;28mself\u001B[39m\u001B[38;5;241m.\u001B[39mevent(SpanDropEvent(span_id\u001B[38;5;241m=\u001B[39mid_, err_str\u001B[38;5;241m=\u001B[39m\u001B[38;5;28mstr\u001B[39m(e)))\n",
      "File \u001B[1;32mD:\\Interpreter\\envs\\llama\\lib\\site-packages\\llama_index\\core\\agent\\runner\\base.py:479\u001B[0m, in \u001B[0;36mAgentRunner.run_step\u001B[1;34m(self, task_id, input, step, **kwargs)\u001B[0m\n\u001B[0;32m    477\u001B[0m \u001B[38;5;250m\u001B[39m\u001B[38;5;124;03m\"\"\"Run step.\"\"\"\u001B[39;00m\n\u001B[0;32m    478\u001B[0m step \u001B[38;5;241m=\u001B[39m validate_step_from_args(task_id, \u001B[38;5;28minput\u001B[39m, step, \u001B[38;5;241m*\u001B[39m\u001B[38;5;241m*\u001B[39mkwargs)\n\u001B[1;32m--> 479\u001B[0m \u001B[38;5;28;01mreturn\u001B[39;00m \u001B[38;5;28mself\u001B[39m\u001B[38;5;241m.\u001B[39m_run_step(\n\u001B[0;32m    480\u001B[0m     task_id, step, \u001B[38;5;28minput\u001B[39m\u001B[38;5;241m=\u001B[39m\u001B[38;5;28minput\u001B[39m, mode\u001B[38;5;241m=\u001B[39mChatResponseMode\u001B[38;5;241m.\u001B[39mWAIT, \u001B[38;5;241m*\u001B[39m\u001B[38;5;241m*\u001B[39mkwargs\n\u001B[0;32m    481\u001B[0m )\n",
      "File \u001B[1;32mD:\\Interpreter\\envs\\llama\\lib\\site-packages\\llama_index\\core\\instrumentation\\dispatcher.py:265\u001B[0m, in \u001B[0;36mDispatcher.span.<locals>.wrapper\u001B[1;34m(func, instance, args, kwargs)\u001B[0m\n\u001B[0;32m    257\u001B[0m \u001B[38;5;28mself\u001B[39m\u001B[38;5;241m.\u001B[39mspan_enter(\n\u001B[0;32m    258\u001B[0m     id_\u001B[38;5;241m=\u001B[39mid_,\n\u001B[0;32m    259\u001B[0m     bound_args\u001B[38;5;241m=\u001B[39mbound_args,\n\u001B[1;32m   (...)\u001B[0m\n\u001B[0;32m    262\u001B[0m     tags\u001B[38;5;241m=\u001B[39mtags,\n\u001B[0;32m    263\u001B[0m )\n\u001B[0;32m    264\u001B[0m \u001B[38;5;28;01mtry\u001B[39;00m:\n\u001B[1;32m--> 265\u001B[0m     result \u001B[38;5;241m=\u001B[39m func(\u001B[38;5;241m*\u001B[39margs, \u001B[38;5;241m*\u001B[39m\u001B[38;5;241m*\u001B[39mkwargs)\n\u001B[0;32m    266\u001B[0m \u001B[38;5;28;01mexcept\u001B[39;00m \u001B[38;5;167;01mBaseException\u001B[39;00m \u001B[38;5;28;01mas\u001B[39;00m e:\n\u001B[0;32m    267\u001B[0m     \u001B[38;5;28mself\u001B[39m\u001B[38;5;241m.\u001B[39mevent(SpanDropEvent(span_id\u001B[38;5;241m=\u001B[39mid_, err_str\u001B[38;5;241m=\u001B[39m\u001B[38;5;28mstr\u001B[39m(e)))\n",
      "File \u001B[1;32mD:\\Interpreter\\envs\\llama\\lib\\site-packages\\llama_index\\core\\agent\\runner\\base.py:412\u001B[0m, in \u001B[0;36mAgentRunner._run_step\u001B[1;34m(self, task_id, step, input, mode, **kwargs)\u001B[0m\n\u001B[0;32m    408\u001B[0m \u001B[38;5;66;03m# TODO: figure out if you can dynamically swap in different step executors\u001B[39;00m\n\u001B[0;32m    409\u001B[0m \u001B[38;5;66;03m# not clear when you would do that by theoretically possible\u001B[39;00m\n\u001B[0;32m    411\u001B[0m \u001B[38;5;28;01mif\u001B[39;00m mode \u001B[38;5;241m==\u001B[39m ChatResponseMode\u001B[38;5;241m.\u001B[39mWAIT:\n\u001B[1;32m--> 412\u001B[0m     cur_step_output \u001B[38;5;241m=\u001B[39m \u001B[38;5;28mself\u001B[39m\u001B[38;5;241m.\u001B[39magent_worker\u001B[38;5;241m.\u001B[39mrun_step(step, task, \u001B[38;5;241m*\u001B[39m\u001B[38;5;241m*\u001B[39mkwargs)\n\u001B[0;32m    413\u001B[0m \u001B[38;5;28;01melif\u001B[39;00m mode \u001B[38;5;241m==\u001B[39m ChatResponseMode\u001B[38;5;241m.\u001B[39mSTREAM:\n\u001B[0;32m    414\u001B[0m     cur_step_output \u001B[38;5;241m=\u001B[39m \u001B[38;5;28mself\u001B[39m\u001B[38;5;241m.\u001B[39magent_worker\u001B[38;5;241m.\u001B[39mstream_step(step, task, \u001B[38;5;241m*\u001B[39m\u001B[38;5;241m*\u001B[39mkwargs)\n",
      "File \u001B[1;32mD:\\Interpreter\\envs\\llama\\lib\\site-packages\\llama_index\\core\\instrumentation\\dispatcher.py:265\u001B[0m, in \u001B[0;36mDispatcher.span.<locals>.wrapper\u001B[1;34m(func, instance, args, kwargs)\u001B[0m\n\u001B[0;32m    257\u001B[0m \u001B[38;5;28mself\u001B[39m\u001B[38;5;241m.\u001B[39mspan_enter(\n\u001B[0;32m    258\u001B[0m     id_\u001B[38;5;241m=\u001B[39mid_,\n\u001B[0;32m    259\u001B[0m     bound_args\u001B[38;5;241m=\u001B[39mbound_args,\n\u001B[1;32m   (...)\u001B[0m\n\u001B[0;32m    262\u001B[0m     tags\u001B[38;5;241m=\u001B[39mtags,\n\u001B[0;32m    263\u001B[0m )\n\u001B[0;32m    264\u001B[0m \u001B[38;5;28;01mtry\u001B[39;00m:\n\u001B[1;32m--> 265\u001B[0m     result \u001B[38;5;241m=\u001B[39m func(\u001B[38;5;241m*\u001B[39margs, \u001B[38;5;241m*\u001B[39m\u001B[38;5;241m*\u001B[39mkwargs)\n\u001B[0;32m    266\u001B[0m \u001B[38;5;28;01mexcept\u001B[39;00m \u001B[38;5;167;01mBaseException\u001B[39;00m \u001B[38;5;28;01mas\u001B[39;00m e:\n\u001B[0;32m    267\u001B[0m     \u001B[38;5;28mself\u001B[39m\u001B[38;5;241m.\u001B[39mevent(SpanDropEvent(span_id\u001B[38;5;241m=\u001B[39mid_, err_str\u001B[38;5;241m=\u001B[39m\u001B[38;5;28mstr\u001B[39m(e)))\n",
      "File \u001B[1;32mD:\\Interpreter\\envs\\llama\\lib\\site-packages\\llama_index\\core\\callbacks\\utils.py:41\u001B[0m, in \u001B[0;36mtrace_method.<locals>.decorator.<locals>.wrapper\u001B[1;34m(self, *args, **kwargs)\u001B[0m\n\u001B[0;32m     39\u001B[0m callback_manager \u001B[38;5;241m=\u001B[39m cast(CallbackManager, callback_manager)\n\u001B[0;32m     40\u001B[0m \u001B[38;5;28;01mwith\u001B[39;00m callback_manager\u001B[38;5;241m.\u001B[39mas_trace(trace_id):\n\u001B[1;32m---> 41\u001B[0m     \u001B[38;5;28;01mreturn\u001B[39;00m func(\u001B[38;5;28mself\u001B[39m, \u001B[38;5;241m*\u001B[39margs, \u001B[38;5;241m*\u001B[39m\u001B[38;5;241m*\u001B[39mkwargs)\n",
      "File \u001B[1;32mD:\\Interpreter\\envs\\llama\\lib\\site-packages\\llama_index\\core\\agent\\custom\\pipeline_worker.py:199\u001B[0m, in \u001B[0;36mQueryPipelineAgentWorker.run_step\u001B[1;34m(self, step, task, **kwargs)\u001B[0m\n\u001B[0;32m    196\u001B[0m     uses_deprecated \u001B[38;5;241m=\u001B[39m \u001B[38;5;28;01mFalse\u001B[39;00m\n\u001B[0;32m    198\u001B[0m \u001B[38;5;28;01mif\u001B[39;00m uses_deprecated:\n\u001B[1;32m--> 199\u001B[0m     agent_response, is_done \u001B[38;5;241m=\u001B[39m \u001B[38;5;28;43mself\u001B[39;49m\u001B[38;5;241;43m.\u001B[39;49m\u001B[43mpipeline\u001B[49m\u001B[38;5;241;43m.\u001B[39;49m\u001B[43mrun\u001B[49m\u001B[43m(\u001B[49m\n\u001B[0;32m    200\u001B[0m \u001B[43m        \u001B[49m\u001B[43mstate\u001B[49m\u001B[38;5;241;43m=\u001B[39;49m\u001B[43mstep\u001B[49m\u001B[38;5;241;43m.\u001B[39;49m\u001B[43mstep_state\u001B[49m\u001B[43m,\u001B[49m\u001B[43m \u001B[49m\u001B[43mtask\u001B[49m\u001B[38;5;241;43m=\u001B[39;49m\u001B[43mtask\u001B[49m\n\u001B[0;32m    201\u001B[0m \u001B[43m    \u001B[49m\u001B[43m)\u001B[49m\n\u001B[0;32m    202\u001B[0m \u001B[38;5;28;01melse\u001B[39;00m:\n\u001B[0;32m    203\u001B[0m     agent_response, is_done \u001B[38;5;241m=\u001B[39m \u001B[38;5;28mself\u001B[39m\u001B[38;5;241m.\u001B[39mpipeline\u001B[38;5;241m.\u001B[39mrun()\n",
      "File \u001B[1;32mD:\\Interpreter\\envs\\llama\\lib\\site-packages\\llama_index\\core\\instrumentation\\dispatcher.py:265\u001B[0m, in \u001B[0;36mDispatcher.span.<locals>.wrapper\u001B[1;34m(func, instance, args, kwargs)\u001B[0m\n\u001B[0;32m    257\u001B[0m \u001B[38;5;28mself\u001B[39m\u001B[38;5;241m.\u001B[39mspan_enter(\n\u001B[0;32m    258\u001B[0m     id_\u001B[38;5;241m=\u001B[39mid_,\n\u001B[0;32m    259\u001B[0m     bound_args\u001B[38;5;241m=\u001B[39mbound_args,\n\u001B[1;32m   (...)\u001B[0m\n\u001B[0;32m    262\u001B[0m     tags\u001B[38;5;241m=\u001B[39mtags,\n\u001B[0;32m    263\u001B[0m )\n\u001B[0;32m    264\u001B[0m \u001B[38;5;28;01mtry\u001B[39;00m:\n\u001B[1;32m--> 265\u001B[0m     result \u001B[38;5;241m=\u001B[39m func(\u001B[38;5;241m*\u001B[39margs, \u001B[38;5;241m*\u001B[39m\u001B[38;5;241m*\u001B[39mkwargs)\n\u001B[0;32m    266\u001B[0m \u001B[38;5;28;01mexcept\u001B[39;00m \u001B[38;5;167;01mBaseException\u001B[39;00m \u001B[38;5;28;01mas\u001B[39;00m e:\n\u001B[0;32m    267\u001B[0m     \u001B[38;5;28mself\u001B[39m\u001B[38;5;241m.\u001B[39mevent(SpanDropEvent(span_id\u001B[38;5;241m=\u001B[39mid_, err_str\u001B[38;5;241m=\u001B[39m\u001B[38;5;28mstr\u001B[39m(e)))\n",
      "File \u001B[1;32mD:\\Interpreter\\envs\\llama\\lib\\site-packages\\llama_index\\core\\query_pipeline\\query.py:413\u001B[0m, in \u001B[0;36mQueryPipeline.run\u001B[1;34m(self, return_values_direct, callback_manager, batch, *args, **kwargs)\u001B[0m\n\u001B[0;32m    409\u001B[0m     query_payload \u001B[38;5;241m=\u001B[39m json\u001B[38;5;241m.\u001B[39mdumps(\u001B[38;5;28mstr\u001B[39m(kwargs))\n\u001B[0;32m    410\u001B[0m \u001B[38;5;28;01mwith\u001B[39;00m \u001B[38;5;28mself\u001B[39m\u001B[38;5;241m.\u001B[39mcallback_manager\u001B[38;5;241m.\u001B[39mevent(\n\u001B[0;32m    411\u001B[0m     CBEventType\u001B[38;5;241m.\u001B[39mQUERY, payload\u001B[38;5;241m=\u001B[39m{EventPayload\u001B[38;5;241m.\u001B[39mQUERY_STR: query_payload}\n\u001B[0;32m    412\u001B[0m ) \u001B[38;5;28;01mas\u001B[39;00m query_event:\n\u001B[1;32m--> 413\u001B[0m     outputs, _ \u001B[38;5;241m=\u001B[39m \u001B[38;5;28mself\u001B[39m\u001B[38;5;241m.\u001B[39m_run(\n\u001B[0;32m    414\u001B[0m         \u001B[38;5;241m*\u001B[39margs,\n\u001B[0;32m    415\u001B[0m         return_values_direct\u001B[38;5;241m=\u001B[39mreturn_values_direct,\n\u001B[0;32m    416\u001B[0m         show_intermediates\u001B[38;5;241m=\u001B[39m\u001B[38;5;28;01mFalse\u001B[39;00m,\n\u001B[0;32m    417\u001B[0m         batch\u001B[38;5;241m=\u001B[39mbatch,\n\u001B[0;32m    418\u001B[0m         \u001B[38;5;241m*\u001B[39m\u001B[38;5;241m*\u001B[39mkwargs,\n\u001B[0;32m    419\u001B[0m     )\n\u001B[0;32m    421\u001B[0m     \u001B[38;5;28;01mreturn\u001B[39;00m outputs\n",
      "File \u001B[1;32mD:\\Interpreter\\envs\\llama\\lib\\site-packages\\llama_index\\core\\instrumentation\\dispatcher.py:265\u001B[0m, in \u001B[0;36mDispatcher.span.<locals>.wrapper\u001B[1;34m(func, instance, args, kwargs)\u001B[0m\n\u001B[0;32m    257\u001B[0m \u001B[38;5;28mself\u001B[39m\u001B[38;5;241m.\u001B[39mspan_enter(\n\u001B[0;32m    258\u001B[0m     id_\u001B[38;5;241m=\u001B[39mid_,\n\u001B[0;32m    259\u001B[0m     bound_args\u001B[38;5;241m=\u001B[39mbound_args,\n\u001B[1;32m   (...)\u001B[0m\n\u001B[0;32m    262\u001B[0m     tags\u001B[38;5;241m=\u001B[39mtags,\n\u001B[0;32m    263\u001B[0m )\n\u001B[0;32m    264\u001B[0m \u001B[38;5;28;01mtry\u001B[39;00m:\n\u001B[1;32m--> 265\u001B[0m     result \u001B[38;5;241m=\u001B[39m func(\u001B[38;5;241m*\u001B[39margs, \u001B[38;5;241m*\u001B[39m\u001B[38;5;241m*\u001B[39mkwargs)\n\u001B[0;32m    266\u001B[0m \u001B[38;5;28;01mexcept\u001B[39;00m \u001B[38;5;167;01mBaseException\u001B[39;00m \u001B[38;5;28;01mas\u001B[39;00m e:\n\u001B[0;32m    267\u001B[0m     \u001B[38;5;28mself\u001B[39m\u001B[38;5;241m.\u001B[39mevent(SpanDropEvent(span_id\u001B[38;5;241m=\u001B[39mid_, err_str\u001B[38;5;241m=\u001B[39m\u001B[38;5;28mstr\u001B[39m(e)))\n",
      "File \u001B[1;32mD:\\Interpreter\\envs\\llama\\lib\\site-packages\\llama_index\\core\\query_pipeline\\query.py:780\u001B[0m, in \u001B[0;36mQueryPipeline._run\u001B[1;34m(self, return_values_direct, show_intermediates, batch, *args, **kwargs)\u001B[0m\n\u001B[0;32m    778\u001B[0m     \u001B[38;5;28;01mreturn\u001B[39;00m result_outputs, intermediates  \u001B[38;5;66;03m# type: ignore[return-value]\u001B[39;00m\n\u001B[0;32m    779\u001B[0m \u001B[38;5;28;01melse\u001B[39;00m:\n\u001B[1;32m--> 780\u001B[0m     result_output_dicts, intermediate_dicts \u001B[38;5;241m=\u001B[39m \u001B[38;5;28;43mself\u001B[39;49m\u001B[38;5;241;43m.\u001B[39;49m\u001B[43m_run_multi\u001B[49m\u001B[43m(\u001B[49m\n\u001B[0;32m    781\u001B[0m \u001B[43m        \u001B[49m\u001B[43m{\u001B[49m\u001B[43mroot_key\u001B[49m\u001B[43m:\u001B[49m\u001B[43m \u001B[49m\u001B[43mkwargs\u001B[49m\u001B[43m}\u001B[49m\u001B[43m,\u001B[49m\u001B[43m \u001B[49m\u001B[43mshow_intermediates\u001B[49m\u001B[38;5;241;43m=\u001B[39;49m\u001B[43mshow_intermediates\u001B[49m\n\u001B[0;32m    782\u001B[0m \u001B[43m    \u001B[49m\u001B[43m)\u001B[49m\n\u001B[0;32m    784\u001B[0m     \u001B[38;5;28;01mreturn\u001B[39;00m (\n\u001B[0;32m    785\u001B[0m         \u001B[38;5;28mself\u001B[39m\u001B[38;5;241m.\u001B[39m_get_single_result_output(\n\u001B[0;32m    786\u001B[0m             result_output_dicts, return_values_direct\n\u001B[0;32m    787\u001B[0m         ),\n\u001B[0;32m    788\u001B[0m         intermediate_dicts,\n\u001B[0;32m    789\u001B[0m     )\n",
      "File \u001B[1;32mD:\\Interpreter\\envs\\llama\\lib\\site-packages\\llama_index\\core\\instrumentation\\dispatcher.py:265\u001B[0m, in \u001B[0;36mDispatcher.span.<locals>.wrapper\u001B[1;34m(func, instance, args, kwargs)\u001B[0m\n\u001B[0;32m    257\u001B[0m \u001B[38;5;28mself\u001B[39m\u001B[38;5;241m.\u001B[39mspan_enter(\n\u001B[0;32m    258\u001B[0m     id_\u001B[38;5;241m=\u001B[39mid_,\n\u001B[0;32m    259\u001B[0m     bound_args\u001B[38;5;241m=\u001B[39mbound_args,\n\u001B[1;32m   (...)\u001B[0m\n\u001B[0;32m    262\u001B[0m     tags\u001B[38;5;241m=\u001B[39mtags,\n\u001B[0;32m    263\u001B[0m )\n\u001B[0;32m    264\u001B[0m \u001B[38;5;28;01mtry\u001B[39;00m:\n\u001B[1;32m--> 265\u001B[0m     result \u001B[38;5;241m=\u001B[39m func(\u001B[38;5;241m*\u001B[39margs, \u001B[38;5;241m*\u001B[39m\u001B[38;5;241m*\u001B[39mkwargs)\n\u001B[0;32m    266\u001B[0m \u001B[38;5;28;01mexcept\u001B[39;00m \u001B[38;5;167;01mBaseException\u001B[39;00m \u001B[38;5;28;01mas\u001B[39;00m e:\n\u001B[0;32m    267\u001B[0m     \u001B[38;5;28mself\u001B[39m\u001B[38;5;241m.\u001B[39mevent(SpanDropEvent(span_id\u001B[38;5;241m=\u001B[39mid_, err_str\u001B[38;5;241m=\u001B[39m\u001B[38;5;28mstr\u001B[39m(e)))\n",
      "File \u001B[1;32mD:\\Interpreter\\envs\\llama\\lib\\site-packages\\llama_index\\core\\query_pipeline\\query.py:947\u001B[0m, in \u001B[0;36mQueryPipeline._run_multi\u001B[1;34m(self, module_input_dict, show_intermediates)\u001B[0m\n\u001B[0;32m    939\u001B[0m     \u001B[38;5;28;01mif\u001B[39;00m (\n\u001B[0;32m    940\u001B[0m         show_intermediates\n\u001B[0;32m    941\u001B[0m         \u001B[38;5;129;01mand\u001B[39;00m module_key \u001B[38;5;129;01mnot\u001B[39;00m \u001B[38;5;129;01min\u001B[39;00m run_state\u001B[38;5;241m.\u001B[39mintermediate_outputs\n\u001B[0;32m    942\u001B[0m     ):\n\u001B[0;32m    943\u001B[0m         run_state\u001B[38;5;241m.\u001B[39mintermediate_outputs[module_key] \u001B[38;5;241m=\u001B[39m ComponentIntermediates(\n\u001B[0;32m    944\u001B[0m             inputs\u001B[38;5;241m=\u001B[39mmodule_input, outputs\u001B[38;5;241m=\u001B[39moutput_dict\n\u001B[0;32m    945\u001B[0m         )\n\u001B[1;32m--> 947\u001B[0m     \u001B[38;5;28;43mself\u001B[39;49m\u001B[38;5;241;43m.\u001B[39;49m\u001B[43mprocess_component_output\u001B[49m\u001B[43m(\u001B[49m\n\u001B[0;32m    948\u001B[0m \u001B[43m        \u001B[49m\u001B[43moutput_dict\u001B[49m\u001B[43m,\u001B[49m\n\u001B[0;32m    949\u001B[0m \u001B[43m        \u001B[49m\u001B[43mmodule_key\u001B[49m\u001B[43m,\u001B[49m\n\u001B[0;32m    950\u001B[0m \u001B[43m        \u001B[49m\u001B[43mrun_state\u001B[49m\u001B[43m,\u001B[49m\n\u001B[0;32m    951\u001B[0m \u001B[43m    \u001B[49m\u001B[43m)\u001B[49m\n\u001B[0;32m    953\u001B[0m next_module_keys \u001B[38;5;241m=\u001B[39m \u001B[38;5;28mself\u001B[39m\u001B[38;5;241m.\u001B[39mget_next_module_keys(\n\u001B[0;32m    954\u001B[0m     run_state,\n\u001B[0;32m    955\u001B[0m )\n\u001B[0;32m    956\u001B[0m \u001B[38;5;28;01mif\u001B[39;00m \u001B[38;5;129;01mnot\u001B[39;00m next_module_keys:\n",
      "File \u001B[1;32mD:\\Interpreter\\envs\\llama\\lib\\site-packages\\llama_index\\core\\query_pipeline\\query.py:883\u001B[0m, in \u001B[0;36mQueryPipeline.process_component_output\u001B[1;34m(self, output_dict, module_key, run_state)\u001B[0m\n\u001B[0;32m    880\u001B[0m             dest_output \u001B[38;5;241m=\u001B[39m output\n\u001B[0;32m    882\u001B[0m         \u001B[38;5;28;01mif\u001B[39;00m attr[\u001B[38;5;124m\"\u001B[39m\u001B[38;5;124mcondition_fn\u001B[39m\u001B[38;5;124m\"\u001B[39m] \u001B[38;5;129;01mis\u001B[39;00m \u001B[38;5;28;01mNone\u001B[39;00m \u001B[38;5;129;01mor\u001B[39;00m attr[\u001B[38;5;124m\"\u001B[39m\u001B[38;5;124mcondition_fn\u001B[39m\u001B[38;5;124m\"\u001B[39m](output):\n\u001B[1;32m--> 883\u001B[0m             \u001B[43madd_output_to_module_inputs\u001B[49m\u001B[43m(\u001B[49m\n\u001B[0;32m    884\u001B[0m \u001B[43m                \u001B[49m\u001B[43mattr\u001B[49m\u001B[38;5;241;43m.\u001B[39;49m\u001B[43mget\u001B[49m\u001B[43m(\u001B[49m\u001B[38;5;124;43m\"\u001B[39;49m\u001B[38;5;124;43mdest_key\u001B[39;49m\u001B[38;5;124;43m\"\u001B[39;49m\u001B[43m)\u001B[49m\u001B[43m,\u001B[49m\n\u001B[0;32m    885\u001B[0m \u001B[43m                \u001B[49m\u001B[43mdest_output\u001B[49m\u001B[43m,\u001B[49m\n\u001B[0;32m    886\u001B[0m \u001B[43m                \u001B[49m\u001B[38;5;28;43mself\u001B[39;49m\u001B[38;5;241;43m.\u001B[39;49m\u001B[43mmodule_dict\u001B[49m\u001B[43m[\u001B[49m\u001B[43mdest\u001B[49m\u001B[43m]\u001B[49m\u001B[43m,\u001B[49m\n\u001B[0;32m    887\u001B[0m \u001B[43m                \u001B[49m\u001B[43mrun_state\u001B[49m\u001B[38;5;241;43m.\u001B[39;49m\u001B[43mall_module_inputs\u001B[49m\u001B[43m[\u001B[49m\u001B[43mdest\u001B[49m\u001B[43m]\u001B[49m\u001B[43m,\u001B[49m\n\u001B[0;32m    888\u001B[0m \u001B[43m            \u001B[49m\u001B[43m)\u001B[49m\n\u001B[0;32m    890\u001B[0m run_state\u001B[38;5;241m.\u001B[39mexecuted_modules\u001B[38;5;241m.\u001B[39madd(module_key)\n",
      "File \u001B[1;32mD:\\Interpreter\\envs\\llama\\lib\\site-packages\\llama_index\\core\\query_pipeline\\query.py:89\u001B[0m, in \u001B[0;36madd_output_to_module_inputs\u001B[1;34m(dest_key, output, module, module_inputs)\u001B[0m\n\u001B[0;32m     87\u001B[0m     \u001B[38;5;66;03m# ensure that there is only one remaining key given partials\u001B[39;00m\n\u001B[0;32m     88\u001B[0m     \u001B[38;5;28;01mif\u001B[39;00m \u001B[38;5;28mlen\u001B[39m(free_keys) \u001B[38;5;241m!=\u001B[39m \u001B[38;5;241m1\u001B[39m:\n\u001B[1;32m---> 89\u001B[0m         \u001B[38;5;28;01mraise\u001B[39;00m \u001B[38;5;167;01mValueError\u001B[39;00m(\n\u001B[0;32m     90\u001B[0m             \u001B[38;5;124m\"\u001B[39m\u001B[38;5;124mModule input keys must have exactly one key if \u001B[39m\u001B[38;5;124m\"\u001B[39m\n\u001B[0;32m     91\u001B[0m             \u001B[38;5;124m\"\u001B[39m\u001B[38;5;124mdest_key is not specified. Remaining keys: \u001B[39m\u001B[38;5;124m\"\u001B[39m\n\u001B[0;32m     92\u001B[0m             \u001B[38;5;124mf\u001B[39m\u001B[38;5;124m\"\u001B[39m\u001B[38;5;124min module: \u001B[39m\u001B[38;5;132;01m{\u001B[39;00mfree_keys\u001B[38;5;132;01m}\u001B[39;00m\u001B[38;5;124m\"\u001B[39m\n\u001B[0;32m     93\u001B[0m         )\n\u001B[0;32m     94\u001B[0m     module_inputs[\u001B[38;5;28mnext\u001B[39m(\u001B[38;5;28miter\u001B[39m(free_keys))] \u001B[38;5;241m=\u001B[39m output\n\u001B[0;32m     95\u001B[0m \u001B[38;5;28;01melse\u001B[39;00m:\n",
      "\u001B[1;31mValueError\u001B[0m: Module input keys must have exactly one key if dest_key is not specified. Remaining keys: in module: {'input', 'tools'}"
     ]
    }
   ],
   "execution_count": 31
  },
  {
   "metadata": {
    "ExecuteTime": {
     "end_time": "2024-09-14T01:32:18.429801Z",
     "start_time": "2024-09-14T01:32:18.413517Z"
    }
   },
   "cell_type": "code",
   "source": "qp.clean_dag",
   "outputs": [
    {
     "data": {
      "text/plain": [
       "<networkx.classes.multidigraph.MultiDiGraph at 0x2abe394a820>"
      ]
     },
     "execution_count": 76,
     "metadata": {},
     "output_type": "execute_result"
    }
   ],
   "execution_count": 76
  }
 ],
 "metadata": {
  "kernelspec": {
   "display_name": "llama",
   "language": "python",
   "name": "python3"
  },
  "language_info": {
   "codemirror_mode": {
    "name": "ipython",
    "version": 3
   },
   "file_extension": ".py",
   "mimetype": "text/x-python",
   "name": "python",
   "nbconvert_exporter": "python",
   "pygments_lexer": "ipython3",
   "version": "3.9.19"
  }
 },
 "nbformat": 4,
 "nbformat_minor": 2
}
