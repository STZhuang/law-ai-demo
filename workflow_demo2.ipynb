{
 "cells": [
  {
   "cell_type": "code",
   "execution_count": 1,
   "id": "initial_id",
   "metadata": {
    "ExecuteTime": {
     "end_time": "2024-09-19T08:16:18.534137Z",
     "start_time": "2024-09-19T08:16:18.522784Z"
    },
    "collapsed": true
   },
   "outputs": [],
   "source": "from llama_index.core.prompts import PromptTemplate"
  },
  {
   "cell_type": "code",
   "execution_count": 2,
   "id": "e7bdc49759f47c31",
   "metadata": {
    "ExecuteTime": {
     "end_time": "2024-09-19T08:12:49.206620Z",
     "start_time": "2024-09-19T08:12:49.197427Z"
    }
   },
   "outputs": [],
   "source": [
    "qa_prompt = \"\"\"请仅根据提供的资源提供答案。\n",
    "    当引用来自一个资源的信息时，\n",
    "    请使用相应的编号来引用合适的资源。\n",
    "    每个答案应至少包含一个资源引用。\n",
    "    只有在你明确引用资源时，才需要引用来源。\n",
    "    如果所有资源都无助于解答，你应该指出这一点。\n",
    "    例如：\n",
    "    资源1：\n",
    "    傍晚时天空是红色的，早上时天空是蓝色的。\n",
    "    资源2：\n",
    "    当天空是红色时，水是湿润的。\n",
    "    问题：水什么时候是湿润的？\n",
    "    答案：水在天空是红色时是湿润的[2]，\n",
    "    这种情况发生在傍晚[1]。\n",
    "    现在轮到你了。以下是几个编号的信息资源：\n",
    "    ------\\n\n",
    "    {context_str}\n",
    "    ------\\n\n",
    "    问题：{query_str}\n",
    "    答案：\"\"\"\n",
    "\n",
    "\n",
    "refine_prompt = \"\"\"\n",
    "    请仅根据提供的资源提供答案。\n",
    "    当引用来自一个资源的信息时，\n",
    "    请使用相应的编号来引用合适的资源。\n",
    "    每个答案应至少包含一个资源引用。\n",
    "    只有在你明确引用资源时，才需要引用来源。\n",
    "    如果所有资源都无助于解答，你应该指出这一点。\n",
    "    例如：\n",
    "    资源1：\n",
    "    傍晚时天空是红色的，早上时天空是蓝色的。\n",
    "    资源2：\n",
    "    当天空是红色时，水是湿润的。\n",
    "    问题：水什么时候是湿润的？\n",
    "    答案：水在天空是红色时是湿润的[2]，\n",
    "    这种情况发生在傍晚[1]。\n",
    "    现在轮到你了。\n",
    "    我们已经提供了一个现成的答案：{existing_answer}\n",
    "    以下是几个编号的信息资源。\n",
    "    使用它们来完善现有的答案。\n",
    "    如果提供的资源没有帮助，你将重复现有的答案。\n",
    "    开始完善！\n",
    "    ------\\n\n",
    "    {context_msg}\n",
    "    ------\\n\n",
    "    问题：{query_str}\n",
    "    答案：\n",
    "\"\"\"\n"
   ]
  },
  {
   "cell_type": "code",
   "execution_count": 1,
   "id": "aaaed819",
   "metadata": {},
   "outputs": [],
   "source": [
    "\n",
    "import logging\n",
    "\n",
    "# Create a logger\n",
    "logger = logging.getLogger(\"my_logger\")\n",
    "logger.setLevel(logging.DEBUG)  # Set the logging level to DEBUG\n",
    "\n",
    "# Create handlers for writing to file and console\n",
    "file_handler = logging.FileHandler(\"example.log\")\n",
    "console_handler = logging.StreamHandler()\n",
    "\n",
    "# Set the logging level for handlers\n",
    "file_handler.setLevel(logging.DEBUG)\n",
    "console_handler.setLevel(logging.INFO)\n",
    "\n",
    "# Create formatters and add it to handlers\n",
    "formatter = logging.Formatter(\"%(asctime)s - %(name)s - %(levelname)s - %(message)s\")\n",
    "file_handler.setFormatter(formatter)\n",
    "console_handler.setFormatter(formatter)\n",
    "\n",
    "# Add handlers to the logger\n",
    "logger.addHandler(file_handler)\n",
    "logger.addHandler(console_handler)\n",
    "\n"
   ]
  },
  {
   "cell_type": "code",
   "execution_count": 3,
   "id": "84fee8187c864b60",
   "metadata": {
    "ExecuteTime": {
     "end_time": "2024-09-19T08:12:49.237028Z",
     "start_time": "2024-09-19T08:12:49.222960Z"
    }
   },
   "outputs": [
    {
     "ename": "NameError",
     "evalue": "name 'PromptTemplate' is not defined",
     "output_type": "error",
     "traceback": [
      "\u001B[1;31m---------------------------------------------------------------------------\u001B[0m",
      "\u001B[1;31mNameError\u001B[0m                                 Traceback (most recent call last)",
      "Cell \u001B[1;32mIn[3], line 1\u001B[0m\n\u001B[1;32m----> 1\u001B[0m QA \u001B[38;5;241m=\u001B[39m \u001B[43mPromptTemplate\u001B[49m(qa_prompt)\n\u001B[0;32m      2\u001B[0m REFINE \u001B[38;5;241m=\u001B[39m PromptTemplate(refine_prompt)\n",
      "\u001B[1;31mNameError\u001B[0m: name 'PromptTemplate' is not defined"
     ]
    }
   ],
   "source": [
    "QA = PromptTemplate(qa_prompt)\n",
    "REFINE = PromptTemplate(refine_prompt)"
   ]
  },
  {
   "cell_type": "code",
   "execution_count": 2,
   "id": "bf3beb6c3a4487d",
   "metadata": {
    "ExecuteTime": {
     "end_time": "2024-09-19T08:12:49.268793Z",
     "start_time": "2024-09-19T08:12:49.254650Z"
    }
   },
   "outputs": [],
   "source": [
    "from load_from_chroma import get_index_from_chroma\n",
    "from llama_index.llms.glm import GLM\n",
    "from Embedding import BGEEbedding\n"
   ]
  },
  {
   "cell_type": "markdown",
   "id": "d3a8c120ff146f96",
   "metadata": {},
   "source": []
  },
  {
   "cell_type": "code",
   "execution_count": null,
   "id": "5b2b56f4139f0230",
   "metadata": {
    "ExecuteTime": {
     "end_time": "2024-09-19T08:12:49.300204Z",
     "start_time": "2024-09-19T08:12:49.285803Z"
    }
   },
   "outputs": [],
   "source": []
  },
  {
   "cell_type": "markdown",
   "id": "6d3ed9ee5fc5d0a0",
   "metadata": {},
   "source": [
    "## 初始化llm，嵌入模型以及retriever"
   ]
  },
  {
   "cell_type": "code",
   "execution_count": 8,
   "id": "891b127c80ede2d1",
   "metadata": {
    "ExecuteTime": {
     "end_time": "2024-09-19T09:51:32.567035Z",
     "start_time": "2024-09-19T09:51:32.551808Z"
    }
   },
   "outputs": [],
   "source": [
    "llm_model = GLM(model=\"glm-4-flash\",temperature = 0)\n",
    "# llm_model = GLM(model=\"glm-4-flash\",temperature = 0)\n",
    "\n",
    "embedding_model = BGEEbedding()\n",
    "law_db = get_index_from_chroma(\n",
    "    path=\".\\\\LawDb\",collection=\"laws\",\n",
    "    embedding_model=embedding_model\n",
    ")\n",
    "\n"
   ]
  },
  {
   "cell_type": "code",
   "execution_count": 5,
   "id": "95714f645267c1de",
   "metadata": {
    "ExecuteTime": {
     "end_time": "2024-09-19T09:51:35.833441Z",
     "start_time": "2024-09-19T09:51:35.814017Z"
    }
   },
   "outputs": [],
   "source": [
    "from llama_index.core import PromptTemplate\n",
    "\n",
    "def process_query(query):\n",
    "    template = \"\"\"\n",
    "        你是一位专业的法律相关行业的咨询专家。当用户在对法律问题提问时，由于对法律相关知识的缺失，所以所提的问题会显得不是很专业。请结合用户所提出的问题进行意图识别后，根据其提问意图，对不专业的问题进行重写为专业的法律问题并输出。\n",
    "        **注意**，请直接输出重组后的问题而不需要其他任何的东西。\n",
    "            用户的问题：{law}\n",
    "        \"\"\"\n",
    "    qa_template = PromptTemplate(template)\n",
    "    resopnse = llm_model.predict(qa_template, law=query)\n",
    "\n",
    "    word_template = PromptTemplate(\"\"\"您是一位深耕法律领域的专业咨询顾问，您的职责在于针对所提出的法律疑问，精准识别提问核心，从中提炼出适宜检索相关法律条文的关键词组。这些词组需确保在chroma向量库中能有效匹配到相关法条，且每个词组均须与原始问题紧密相关。请将提炼的词组以中文形式输出，词组间使用英文逗号\",\"分隔，格式为\"XXXX的XXXXX\"。请直接列出所有词组，无需其他附加内容。请确保至少提取一个词组，且对提取数量不设上限。请参考以下示例执行：\n",
    "\n",
    "    示例：\n",
    "    问题:故意杀人的刑事责任及具体刑期如何确定？\n",
    "    输出:故意杀人的刑事责任,故意杀人的刑期确定\n",
    "    问题:依据我国刑法，过失杀人行为的刑罚年限有何规定？\n",
    "    输出:过失杀人行为的刑罚年限\n",
    "\n",
    "    请依此范例进行输出。\n",
    "        问题：{law_q}\n",
    "    \"\"\")\n",
    "    law_query = llm_model.predict(word_template, law_q=str(resopnse)).split(',')\n",
    "\n",
    "    law_retriever = law_db.as_retriever()\n",
    "    result = []\n",
    "    for i in law_query:\n",
    "        for j in law_retriever.retrieve(i):\n",
    "            result.append(str(j))\n",
    "\n",
    "    q_template = PromptTemplate(\"\"\"\n",
    "        你是一位深耕法律领域的专业咨询顾问。请从给出的法律法规中回答问题。\n",
    "        法律条文：{law_s}\n",
    "        问题：{law_q}\n",
    "        请确保回答准确、专业，并基于给出的法律法规。同时，请确保回答符合法律专业术语的规范和标准。\n",
    "        \"\"\")\n",
    "    r = llm_model.predict(q_template, law_s=result, law_q=str(resopnse))\n",
    "    return str(r)"
   ]
  },
  {
   "cell_type": "markdown",
   "id": "fca4bad2b238af88",
   "metadata": {},
   "source": []
  },
  {
   "cell_type": "code",
   "execution_count": 9,
   "id": "fb0a0988f47a07d7",
   "metadata": {
    "ExecuteTime": {
     "end_time": "2024-09-19T09:51:39.241901Z",
     "start_time": "2024-09-19T09:51:39.224921Z"
    }
   },
   "outputs": [],
   "source": [
    "law_searcher = law_db.as_query_engine(llm=llm_model)"
   ]
  },
  {
   "cell_type": "code",
   "execution_count": 15,
   "id": "ee8529a13f5c448a",
   "metadata": {
    "ExecuteTime": {
     "end_time": "2024-09-19T09:53:16.972488Z",
     "start_time": "2024-09-19T09:53:04.363126Z"
    }
   },
   "outputs": [
    {
     "data": {
      "text/markdown": [
       "# 思维链结果:\n",
       " 经济犯罪的量刑标准确定，依据《中华人民共和国刑法》的相关规定，具体如下：\n",
       "\n",
       "1. **根据犯罪事实、性质、情节和社会危害程度**：第六十一条规定，对于犯罪分子决定刑罚时，应当根据犯罪的事实、犯罪的性质、情节和对于社会的危害程度，依照本法的有关规定判处。\n",
       "\n",
       "2. **从重、从轻、减轻处罚情节**：第六十二条规定，犯罪分子具有本法规定的从重处罚、从轻处罚情节的，应当在法定刑的限度以内判处刑罚。\n",
       "\n",
       "3. **减轻处罚情节**：第六十三条规定，犯罪分子具有本法规定的减轻处罚情节的，应当在法定刑以下判处刑罚；如果本法规定有数个量刑幅度的，应当在法定量刑幅度的下一个量刑幅度内判处刑罚。犯罪分子虽然不具有本法规定的减轻处罚情节，但根据案件的特殊情况，经最高人民法院核准，也可以在法定刑以下判处刑罚。\n",
       "\n",
       "4. **违法所得的追缴和没收**：第六十四条规定，犯罪分子违法所得的一切财物，应当予以追缴或者责令退赔；对被害人的合法财产，应当及时返还；违禁品和供犯罪所用的本人财物，应当予以没收。没收的财物和罚金，一律上缴国库。\n",
       "\n",
       "5. **刑罚的种类**：第三十二条规定，刑罚分为主刑和附加刑。主刑包括管制、拘役、有期徒刑、无期徒刑和死刑；附加刑包括罚金、剥夺政治权利和没收财产。\n",
       "\n",
       "6. **赔偿经济损失**：第三十六条规定，由于犯罪行为而使被害人遭受经济损失的，对犯罪分子除依法给予刑事处罚外，并应根据情况判处赔偿经济损失。\n",
       "\n",
       "综上所述，经济犯罪的量刑标准是综合考量犯罪的事实、性质、情节、社会危害程度以及犯罪分子的具体情节，依法在法定刑的范围内进行判处，并可能涉及追缴违法所得、赔偿经济损失等措施。"
      ],
      "text/plain": [
       "<IPython.core.display.Markdown object>"
      ]
     },
     "metadata": {},
     "output_type": "display_data"
    },
    {
     "data": {
      "text/markdown": [
       "# 直接使用引擎结果:\n",
       "经济犯罪的量刑标准根据犯罪的事实、性质、情节和对于社会的危害程度，依照相关法律规定判处。具体而言，对于具有从重、从轻或减轻处罚情节的犯罪分子，应在法定刑的限度内判处刑罚。例如，抢劫公私财物的，根据抢劫的具体情形，可能被判处三年以上十年以下有期徒刑，并处罚金；若情节严重，如入户抢劫、抢劫银行等，则可能被判处十年以上有期徒刑、无期徒刑或者死刑，并处罚金或者没收财产。盗窃公私财物的，根据盗窃的数额和情节，可能被判处三年以下有期徒刑、拘役或者管制，并处罚金；若情节严重，则可能被判处三年以上十年以下有期徒刑，并处罚金。"
      ],
      "text/plain": [
       "<IPython.core.display.Markdown object>"
      ]
     },
     "metadata": {},
     "output_type": "display_data"
    }
   ],
   "source": [
    "query = \"经济犯罪的量刑标准?\"\n",
    "response = process_query(query)\n",
    "from IPython.display import Markdown, display\n",
    "display(Markdown(f\"\"\"# 思维链结果:\\n {response}\"\"\"))\n",
    "display(Markdown(f\"\"\"# 直接使用引擎结果:\\n{str(law_searcher.query(query))}\"\"\"))"
   ]
  },
  {
   "cell_type": "code",
   "execution_count": null,
   "id": "e77f42b5d4f70b4b",
   "metadata": {},
   "outputs": [],
   "source": []
  },
  {
   "cell_type": "code",
   "execution_count": 15,
   "id": "2a4a5227ee6f4d28",
   "metadata": {
    "ExecuteTime": {
     "end_time": "2024-09-19T08:12:49.393148Z",
     "start_time": "2024-09-19T08:12:49.382563Z"
    }
   },
   "outputs": [],
   "source": [
    "from llama_index.core.workflow import Event\n",
    "from llama_index.core.schema import NodeWithScore\n",
    "\n",
    "\n",
    "class RetrieverEvent(Event):\n",
    "    \"\"\"Result of running retrieval\"\"\"\n",
    "    nodes: list[NodeWithScore]\n",
    "\n",
    "class CreateCitationsEvent(Event):\n",
    "    \"\"\"Add citations to the nodes.\"\"\"\n",
    "\n",
    "    nodes: list[NodeWithScore]"
   ]
  },
  {
   "cell_type": "code",
   "execution_count": 16,
   "id": "52be90bd5429061c",
   "metadata": {
    "ExecuteTime": {
     "end_time": "2024-09-19T08:12:49.440054Z",
     "start_time": "2024-09-19T08:12:49.425607Z"
    }
   },
   "outputs": [],
   "source": [
    "from llama_index.core import VectorStoreIndex\n",
    "from llama_index.core.workflow import (\n",
    "    Context,\n",
    "    Workflow,\n",
    "    StartEvent,\n",
    "    StopEvent,\n",
    "    step,\n",
    ")\n",
    "\n",
    "from llama_index.core.schema import (\n",
    "    MetadataMode,\n",
    "    NodeWithScore,\n",
    "    TextNode,\n",
    ")\n",
    "\n",
    "from llama_index.core.response_synthesizers import (\n",
    "    ResponseMode,\n",
    "    get_response_synthesizer,\n",
    ")\n",
    "\n",
    "from typing import Union, List\n",
    "from llama_index.core.node_parser import SentenceSplitter\n",
    "\n",
    "\n",
    "class CitationQueryEngineWorkflow(Workflow):\n",
    "    @step\n",
    "    async def retrieve(\n",
    "            self, ctx: Context, ev: StartEvent\n",
    "    ) -> Union[RetrieverEvent, None]:\n",
    "        \"\"\"Entry point for RAG, triggered by a StartEvent with `query`.\"\"\"\n",
    "        query = ev.get(\"query\")\n",
    "        if not query:\n",
    "            return None\n",
    "\n",
    "        print(f\"Query the database with: {query}\")\n",
    "\n",
    "        # store the query in the global context\n",
    "        await ctx.set(\"query\", query)\n",
    "\n",
    "        if ev.index is None:\n",
    "            print(\"Index is empty, load some documents before querying!\")\n",
    "            return None\n",
    "        indexes: VectorStoreIndex = ev.index\n",
    "        retriever = indexes.as_retriever(similarity_top_k=5)\n",
    "        nodes = retriever.retrieve(query)\n",
    "        print(f\"Retrieved {len(nodes)} nodes.\")\n",
    "        return RetrieverEvent(nodes=nodes)\n",
    "\n",
    "    @step\n",
    "    async def create_citation_nodes(self, ev: RetrieverEvent) -> CreateCitationsEvent:\n",
    "        \"\"\"\n",
    "        Modify retrieved nodes to create granular sources for citations.\n",
    "\n",
    "        Takes a list of NodeWithScore objects and splits their content\n",
    "        into smaller chunks, creating new NodeWithScore objects for each chunk.\n",
    "        Each new node is labeled as a numbered source, allowing for more precise\n",
    "        citation in query results.\n",
    "\n",
    "        Args:\n",
    "            nodes (List[NodeWithScore]): A list of NodeWithScore objects to be processed.\n",
    "\n",
    "        Returns:\n",
    "            List[NodeWithScore]: A new list of NodeWithScore objects, where each object\n",
    "            represents a smaller chunk of the original nodes, labeled as a source.\n",
    "        \"\"\"\n",
    "        nodes = ev.nodes\n",
    "\n",
    "        new_nodes: List[NodeWithScore] = []\n",
    "\n",
    "        text_splitter = SentenceSplitter(\n",
    "            chunk_size=512,\n",
    "            chunk_overlap=30, )\n",
    "\n",
    "        for node in nodes:\n",
    "            text_chunks = text_splitter.split_text(\n",
    "                node.node.get_content(metadata_mode=MetadataMode.NONE)\n",
    "            )\n",
    "\n",
    "            for text_chunk in text_chunks:\n",
    "                text = f\"Source {len(new_nodes) + 1}:\\n{text_chunk}\\n\"\n",
    "\n",
    "                new_node = NodeWithScore(\n",
    "                    node=TextNode.parse_obj(node.node), score=node.score\n",
    "                )\n",
    "                new_node.node.text = text\n",
    "                new_nodes.append(new_node)\n",
    "        return CreateCitationsEvent(nodes=new_nodes)\n",
    "\n",
    "    @step\n",
    "    async def synthesize(self, ctx: Context, ev: CreateCitationsEvent) -> StopEvent:\n",
    "        \"\"\"Return a streaming response using the retrieved nodes.\"\"\"\n",
    "        llm = GLM(is_function_calling_model=True)\n",
    "        query = await ctx.get(\"query\", default=None)\n",
    "\n",
    "        synthesizer = get_response_synthesizer(\n",
    "            llm=llm,\n",
    "            text_qa_template=QA,\n",
    "            refine_template=REFINE,\n",
    "            response_mode=ResponseMode.COMPACT,\n",
    "            use_async=True,\n",
    "        )\n",
    "\n",
    "        response = await synthesizer.asynthesize(query, nodes=ev.nodes)\n",
    "        return StopEvent(result=response)"
   ]
  },
  {
   "cell_type": "code",
   "execution_count": 17,
   "id": "1d02e33630a81cf7",
   "metadata": {
    "ExecuteTime": {
     "end_time": "2024-09-19T08:12:49.456022Z",
     "start_time": "2024-09-19T08:12:49.445968Z"
    }
   },
   "outputs": [],
   "source": [
    "from load_from_chroma import get_index_from_chroma\n",
    "\n",
    "index = get_index_from_chroma(path=\"\"\".\\\\LawDb\"\"\",collection=\"laws\")"
   ]
  },
  {
   "cell_type": "code",
   "execution_count": 18,
   "id": "d8fca721",
   "metadata": {
    "ExecuteTime": {
     "end_time": "2024-09-19T08:13:06.397729Z",
     "start_time": "2024-09-19T08:12:59.282416Z"
    }
   },
   "outputs": [
    {
     "name": "stdout",
     "output_type": "stream",
     "text": [
      "Query the database with: 买卖毒品如何判刑\n",
      "Retrieved 2 nodes.\n"
     ]
    }
   ],
   "source": [
    "# Run a query\n",
    "w = CitationQueryEngineWorkflow(timeout=1000)\n",
    "result = await w.run(query=\"买卖毒品如何判刑\", index=index)"
   ]
  },
  {
   "cell_type": "code",
   "execution_count": 19,
   "id": "dfbb5731",
   "metadata": {
    "ExecuteTime": {
     "end_time": "2024-09-19T08:13:10.411382Z",
     "start_time": "2024-09-19T08:13:10.402464Z"
    }
   },
   "outputs": [
    {
     "data": {
      "text/markdown": [
       "买卖毒品将根据毒品的种类和数量以及犯罪的具体情节来判刑[1][2]。如果走私、贩卖、运输、制造鸦片一千克以上、海洛因或者甲基苯丙胺五十克以上或者其他毒品数量大的，将处十五年有期徒刑、无期徒刑或者死刑，并处没收财产[1]。如果走私、贩卖、运输、制造鸦片二百克以上不满一千克、海洛因或者甲基苯丙胺十克以上不满五十克或者其他毒品数量较大的，将处七年以上有期徒刑，并处罚金[1]。如果走私、贩卖、运输、制造鸦片不满二百克、海洛因或者甲基苯丙胺不满十克或者其他少量毒品的，将处三年以下有期徒刑、拘役或者管制，并处罚金；情节严重的，处三年以上七年以下有期徒刑，并处罚金[2]。"
      ],
      "text/plain": [
       "<IPython.core.display.Markdown object>"
      ]
     },
     "metadata": {},
     "output_type": "display_data"
    },
    {
     "name": "stdout",
     "output_type": "stream",
     "text": [
      "Source 1:\n",
      "第七节 走私、贩卖、运输、制造毒品罪\n",
      "\n",
      "第三百四十七条 走私、贩卖、运输、制造毒品，无论数量多少，都应当追究刑事责任，予以刑事处罚。\n",
      "\n",
      "走私、贩卖、运输、制造毒品，有下列情形之一的，处十五年有期徒刑、无期徒刑或者死刑，并处没收财产：\n",
      "\n",
      "（一）走私、贩卖、运输、制造鸦片一千克以上、海洛因或者甲基苯丙胺五十克以上或者其他毒品数量大的；\n",
      "\n",
      "（二）走私、贩卖、运输、制造毒品集团的首要分子；\n",
      "\n",
      "（三）武装掩护走私、贩卖、运输、制造毒品的；\n",
      "\n",
      "（四）以暴力抗拒检查、拘留、逮捕，情节严重的；\n",
      "\n",
      "（五）参与有组织的国际贩毒活动的。\n",
      "\n",
      "走私、贩卖、运输、制造鸦片二百克以上不满一千克、海洛因或者甲基苯丙胺十克以上不满五十克或者其他毒品数量较大的，处七年以上有期徒刑，并处罚金。\n",
      "\n",
      "Source 2:\n",
      "走私、贩卖、运输、制造鸦片不满二百克、海洛因或者甲基苯丙胺不满十克或者其他少量毒品的，处三年以下有期徒刑、拘役或者管制，并处罚金；情节严重的，处三年以上七年以下有期徒刑，并处罚金。\n",
      "\n",
      "单位犯第二款、第三款、第四款罪的，对单位判处罚金，并对其直接负责的主管人员和其他直接责任人员，依照各该款的规定处罚。\n",
      "\n",
      "利用、教唆未成年人走私、贩卖、运输、制造毒品，或者向未成年人出售毒品的，从重处罚。\n",
      "\n",
      "对多次走私、贩卖、运输、制造毒品，未经处理的，毒品数量累计计算。\n",
      "\n",
      "第三百四十八条 非法持有鸦片一千克以上、海洛因或者甲基苯丙胺五十克以上或者其他毒品数量大的，处七年以上有期徒刑或者无期徒刑，并处罚金；非法持有鸦片二百克以上不满一千克、海洛因或者甲基苯丙胺十克以上不满五十克或者其他毒品数量较大的，处三年以下有期徒刑、拘役或者管制，并处罚金；情节严重的，处三年以上七年以下有期徒刑，并处罚金。\n",
      "\n"
     ]
    }
   ],
   "source": [
    "from IPython.display import Markdown, display\n",
    "\n",
    "display(Markdown(f\"{result}\"))\n",
    "for res in result.source_nodes:\n",
    "    print(res.node.get_text())"
   ]
  },
  {
   "cell_type": "code",
   "execution_count": 20,
   "id": "1208b038",
   "metadata": {
    "ExecuteTime": {
     "end_time": "2024-09-19T08:13:48.399756Z",
     "start_time": "2024-09-19T08:13:48.381787Z"
    }
   },
   "outputs": [
    {
     "ename": "AttributeError",
     "evalue": "'Response' object has no attribute 'source_node'",
     "output_type": "error",
     "traceback": [
      "\u001B[1;31m---------------------------------------------------------------------------\u001B[0m",
      "\u001B[1;31mAttributeError\u001B[0m                            Traceback (most recent call last)",
      "Cell \u001B[1;32mIn[20], line 1\u001B[0m\n\u001B[1;32m----> 1\u001B[0m \u001B[43mresult\u001B[49m\u001B[38;5;241;43m.\u001B[39;49m\u001B[43msource_node\u001B[49m\n",
      "\u001B[1;31mAttributeError\u001B[0m: 'Response' object has no attribute 'source_node'"
     ]
    }
   ],
   "source": [
    "result.source_node"
   ]
  },
  {
   "cell_type": "code",
   "execution_count": 21,
   "id": "1162e907",
   "metadata": {
    "ExecuteTime": {
     "end_time": "2024-09-19T08:13:50.350954Z",
     "start_time": "2024-09-19T08:13:50.347942Z"
    }
   },
   "outputs": [
    {
     "name": "stdout",
     "output_type": "stream",
     "text": [
      "Source 1:\n",
      "第七节 走私、贩卖、运输、制造毒品罪\n",
      "\n",
      "第三百四十七条 走私、贩卖、运输、制造毒品，无论数量多少，都应当追究刑事责任，予以刑事处罚。\n",
      "\n",
      "走私、贩卖、运输、制造毒品，有下列情形之一的，处十五年有期徒刑、无期徒刑或者死刑，并处没收财产：\n",
      "\n",
      "（一）走私、贩卖、运输、制造鸦片一千克以上、海洛因或者甲基苯丙胺五十克以上或者其他毒品数量大的；\n",
      "\n",
      "（二）走私、贩卖、运输、制造毒品集团的首要分子；\n",
      "\n",
      "（三）武装掩护走私、贩卖、运输、制造毒品的；\n",
      "\n",
      "（四）以暴力抗拒检查、拘留、逮捕，情节严重的；\n",
      "\n",
      "（五）参与有组织的国际贩毒活动的。\n",
      "\n",
      "走私、贩卖、运输、制造鸦片二百克以上不满一千克、海洛因或者甲基苯丙胺十克以上不满五十克或者其他毒品数量较大的，处七年以上有期徒刑，并处罚金。\n",
      "\n",
      "Source 2:\n",
      "走私、贩卖、运输、制造鸦片不满二百克、海洛因或者甲基苯丙胺不满十克或者其他少量毒品的，处三年以下有期徒刑、拘役或者管制，并处罚金；情节严重的，处三年以上七年以下有期徒刑，并处罚金。\n",
      "\n",
      "单位犯第二款、第三款、第四款罪的，对单位判处罚金，并对其直接负责的主管人员和其他直接责任人员，依照各该款的规定处罚。\n",
      "\n",
      "利用、教唆未成年人走私、贩卖、运输、制造毒品，或者向未成年人出售毒品的，从重处罚。\n",
      "\n",
      "对多次走私、贩卖、运输、制造毒品，未经处理的，毒品数量累计计算。\n",
      "\n",
      "第三百四十八条 非法持有鸦片一千克以上、海洛因或者甲基苯丙胺五十克以上或者其他毒品数量大的，处七年以上有期徒刑或者无期徒刑，并处罚金；非法持有鸦片二百克以上不满一千克、海洛因或者甲基苯丙胺十克以上不满五十克或者其他毒品数量较大的，处三年以下有期徒刑、拘役或者管制，并处罚金；情节严重的，处三年以上七年以下有期徒刑，并处罚金。\n",
      "\n"
     ]
    }
   ],
   "source": [
    "for res in result.source_nodes:\n",
    "    print(res.node.get_text())"
   ]
  },
  {
   "cell_type": "code",
   "execution_count": 22,
   "id": "c66675be",
   "metadata": {
    "ExecuteTime": {
     "end_time": "2024-09-19T08:13:59.261348Z",
     "start_time": "2024-09-19T08:13:59.251534Z"
    }
   },
   "outputs": [
    {
     "name": "stdout",
     "output_type": "stream",
     "text": [
      "[NodeWithScore(node=TextNode(id_='2bd8108a-1415-4e8e-9392-601c002fdf90', embedding=None, metadata={'file_path': 'd:\\\\code\\\\law_llama_system\\\\Law-Book\\\\7-刑法\\\\刑法.md', 'file_name': '刑法.md', 'file_size': 217091, 'creation_date': '2024-09-13', 'last_modified_date': '2024-01-22'}, excluded_embed_metadata_keys=['file_name', 'file_type', 'file_size', 'creation_date', 'last_modified_date', 'last_accessed_date'], excluded_llm_metadata_keys=['file_name', 'file_type', 'file_size', 'creation_date', 'last_modified_date', 'last_accessed_date'], relationships={<NodeRelationship.SOURCE: '1'>: RelatedNodeInfo(node_id='5453df9e-e883-4d10-aaae-fa52c18d2191', node_type=<ObjectType.DOCUMENT: '4'>, metadata={'file_path': 'd:\\\\code\\\\law_llama_system\\\\Law-Book\\\\7-刑法\\\\刑法.md', 'file_name': '刑法.md', 'file_size': 217091, 'creation_date': '2024-09-13', 'last_modified_date': '2024-01-22'}, hash='a8d880f037c4caeb4f198d4a10875cb92eac8c49a3c93b06444c4fc365043fa1'), <NodeRelationship.NEXT: '3'>: RelatedNodeInfo(node_id='6a122d99-2956-4c96-8ffb-5445201bfa58', node_type=<ObjectType.TEXT: '1'>, metadata={}, hash='32bab265b1d21246c3e6c954f298953b3325a3cbd40507a664bd94f7eba2e8d4')}, text='Source 1:\\n第七节 走私、贩卖、运输、制造毒品罪\\n\\n第三百四十七条 走私、贩卖、运输、制造毒品，无论数量多少，都应当追究刑事责任，予以刑事处罚。\\n\\n走私、贩卖、运输、制造毒品，有下列情形之一的，处十五年有期徒刑、无期徒刑或者死刑，并处没收财产：\\n\\n（一）走私、贩卖、运输、制造鸦片一千克以上、海洛因或者甲基苯丙胺五十克以上或者其他毒品数量大的；\\n\\n（二）走私、贩卖、运输、制造毒品集团的首要分子；\\n\\n（三）武装掩护走私、贩卖、运输、制造毒品的；\\n\\n（四）以暴力抗拒检查、拘留、逮捕，情节严重的；\\n\\n（五）参与有组织的国际贩毒活动的。\\n\\n走私、贩卖、运输、制造鸦片二百克以上不满一千克、海洛因或者甲基苯丙胺十克以上不满五十克或者其他毒品数量较大的，处七年以上有期徒刑，并处罚金。\\n', mimetype='text/plain', start_char_idx=2, end_char_idx=334, text_template='{metadata_str}\\n\\n{content}', metadata_template='{key}: {value}', metadata_seperator='\\n'), score=0.5592979255761702), NodeWithScore(node=TextNode(id_='6a122d99-2956-4c96-8ffb-5445201bfa58', embedding=None, metadata={'file_path': 'd:\\\\code\\\\law_llama_system\\\\Law-Book\\\\7-刑法\\\\刑法.md', 'file_name': '刑法.md', 'file_size': 217091, 'creation_date': '2024-09-13', 'last_modified_date': '2024-01-22'}, excluded_embed_metadata_keys=['file_name', 'file_type', 'file_size', 'creation_date', 'last_modified_date', 'last_accessed_date'], excluded_llm_metadata_keys=['file_name', 'file_type', 'file_size', 'creation_date', 'last_modified_date', 'last_accessed_date'], relationships={<NodeRelationship.SOURCE: '1'>: RelatedNodeInfo(node_id='5453df9e-e883-4d10-aaae-fa52c18d2191', node_type=<ObjectType.DOCUMENT: '4'>, metadata={'file_path': 'd:\\\\code\\\\law_llama_system\\\\Law-Book\\\\7-刑法\\\\刑法.md', 'file_name': '刑法.md', 'file_size': 217091, 'creation_date': '2024-09-13', 'last_modified_date': '2024-01-22'}, hash='a8d880f037c4caeb4f198d4a10875cb92eac8c49a3c93b06444c4fc365043fa1'), <NodeRelationship.PREVIOUS: '2'>: RelatedNodeInfo(node_id='2bd8108a-1415-4e8e-9392-601c002fdf90', node_type=<ObjectType.TEXT: '1'>, metadata={'file_path': 'd:\\\\code\\\\law_llama_system\\\\Law-Book\\\\7-刑法\\\\刑法.md', 'file_name': '刑法.md', 'file_size': 217091, 'creation_date': '2024-09-13', 'last_modified_date': '2024-01-22'}, hash='17d4463f34499012b4bc59e8956b0f5d6071188340d2007e24e099f7788a7ee6'), <NodeRelationship.NEXT: '3'>: RelatedNodeInfo(node_id='ed400140-8b18-4018-aa69-87ab6a49e7a1', node_type=<ObjectType.TEXT: '1'>, metadata={}, hash='f0eb12f039855c1208e9e215c4019d99d5c1f0138a22adfac7edb514c0854b23')}, text='Source 2:\\n走私、贩卖、运输、制造鸦片不满二百克、海洛因或者甲基苯丙胺不满十克或者其他少量毒品的，处三年以下有期徒刑、拘役或者管制，并处罚金；情节严重的，处三年以上七年以下有期徒刑，并处罚金。\\n\\n单位犯第二款、第三款、第四款罪的，对单位判处罚金，并对其直接负责的主管人员和其他直接责任人员，依照各该款的规定处罚。\\n\\n利用、教唆未成年人走私、贩卖、运输、制造毒品，或者向未成年人出售毒品的，从重处罚。\\n\\n对多次走私、贩卖、运输、制造毒品，未经处理的，毒品数量累计计算。\\n\\n第三百四十八条 非法持有鸦片一千克以上、海洛因或者甲基苯丙胺五十克以上或者其他毒品数量大的，处七年以上有期徒刑或者无期徒刑，并处罚金；非法持有鸦片二百克以上不满一千克、海洛因或者甲基苯丙胺十克以上不满五十克或者其他毒品数量较大的，处三年以下有期徒刑、拘役或者管制，并处罚金；情节严重的，处三年以上七年以下有期徒刑，并处罚金。\\n', mimetype='text/plain', start_char_idx=336, end_char_idx=727, text_template='{metadata_str}\\n\\n{content}', metadata_template='{key}: {value}', metadata_seperator='\\n'), score=0.5374717631312748)]\n"
     ]
    }
   ],
   "source": [
    "print(result.source_nodes)"
   ]
  }
 ],
 "metadata": {
  "kernelspec": {
   "display_name": "Python 3",
   "language": "python",
   "name": "python3"
  },
  "language_info": {
   "codemirror_mode": {
    "name": "ipython",
    "version": 3
   },
   "file_extension": ".py",
   "mimetype": "text/x-python",
   "name": "python",
   "nbconvert_exporter": "python",
   "pygments_lexer": "ipython3",
   "version": "3.9.19"
  }
 },
 "nbformat": 4,
 "nbformat_minor": 5
}
