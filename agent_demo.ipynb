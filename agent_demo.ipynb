{
 "cells": [
  {
   "cell_type": "markdown",
   "metadata": {},
   "source": [
    "# 建立一个工作流"
   ]
  },
  {
   "metadata": {},
   "cell_type": "code",
   "outputs": [],
   "execution_count": null,
   "source": ""
  },
  {
   "cell_type": "markdown",
   "metadata": {},
   "source": [
    "## 导入一些代码"
   ]
  },
  {
   "cell_type": "code",
   "execution_count": 32,
   "metadata": {
    "ExecuteTime": {
     "end_time": "2024-09-24T02:47:03.280034Z",
     "start_time": "2024-09-24T02:47:03.268890Z"
    }
   },
   "outputs": [],
   "source": [
    "from llama_index.llms.glm import GLM\n",
    "llm = GLM(temperature=0.7)\n",
    "\n",
    "# from llama_index.llms.deepseekai import DeepSeek"
   ]
  },
  {
   "cell_type": "code",
   "execution_count": 33,
   "metadata": {
    "ExecuteTime": {
     "end_time": "2024-09-24T02:47:06.721845Z",
     "start_time": "2024-09-24T02:47:05.816020Z"
    }
   },
   "outputs": [],
   "source": [
    "from llama_index.core.tools import FunctionTool\n",
    "from Embedding import BGEEbedding\n",
    "from llama_index.core.tools import ToolMetadata,RetrieverTool\n",
    "import logging\n",
    "from load_from_chroma import get_index_from_chroma\n",
    "from llama_index.core.agent import AgentRunner\n",
    "\n",
    "logging.getLogger(\"agent_demo\").setLevel(logging.INFO)\n",
    "embd_model = BGEEbedding()\n"
   ]
  },
  {
   "cell_type": "code",
   "execution_count": 34,
   "metadata": {
    "ExecuteTime": {
     "end_time": "2024-09-24T02:47:10.358684Z",
     "start_time": "2024-09-24T02:47:09.296963Z"
    }
   },
   "outputs": [],
   "source": [
    "chroma_index = get_index_from_chroma(path=\".\\\\LawDb\",collection=\"laws\",embedding_model=embd_model)"
   ]
  },
  {
   "cell_type": "code",
   "execution_count": 4,
   "metadata": {
    "ExecuteTime": {
     "end_time": "2024-09-18T05:57:21.583421Z",
     "start_time": "2024-09-18T05:57:21.569983Z"
    }
   },
   "outputs": [],
   "source": [
    "# a.retrieve(\"\"\"杀人\"\"\")"
   ]
  },
  {
   "cell_type": "code",
   "execution_count": 44,
   "metadata": {
    "ExecuteTime": {
     "end_time": "2024-09-24T02:48:18.040045Z",
     "start_time": "2024-09-24T02:48:18.027048Z"
    }
   },
   "outputs": [],
   "source": [
    "import datetime\n",
    "\n",
    "\n",
    "retriver_tool = RetrieverTool(\n",
    "    retriever=chroma_index.as_retriever(),\n",
    "    metadata=ToolMetadata(\n",
    "        name=\"law_tools\",\n",
    "        description=\"\"\"\n",
    "             用户询问关于法律的任何信息时，调用此工具。\n",
    "            \"\"\",\n",
    "    ),\n",
    ")\n",
    "def get_now():\n",
    "    \"\"\"获取当前的年份，月份，日期和时间\"\"\"\n",
    "    return datetime.datetime.now()\n",
    "\n",
    "\n",
    "def multiply(a: int, b: int) -> int:\n",
    "    \"\"\"计算a和b的乘积并返回结果\"\"\"\n",
    "    return a * b\n",
    "\n",
    "\n",
    "def add(a: int, b: int) -> int:\n",
    "    \"\"\"计算a和b的和并返回结果\"\"\"\n",
    "    return a + b\n",
    "multiply_tool = FunctionTool.from_defaults(fn=multiply)\n",
    "add_tool = FunctionTool.from_defaults(fn=add)\n",
    "get_local_time = FunctionTool.from_defaults(fn=get_now)\n",
    "\n",
    "retriever_tool = RetrieverTool(\n",
    "    retriever=chroma_index.as_retriever(),\n",
    "    metadata=ToolMetadata(\n",
    "        name=\"law_tools\",\n",
    "        description=\"\"\"\n",
    "             用户询问关于法律的任何信息时，调用此工具。\n",
    "            \"\"\",\n",
    "    ),\n",
    ")"
   ]
  },
  {
   "cell_type": "code",
   "execution_count": 45,
   "metadata": {
    "ExecuteTime": {
     "end_time": "2024-09-24T02:48:20.833870Z",
     "start_time": "2024-09-24T02:48:20.818651Z"
    }
   },
   "outputs": [],
   "source": [
    "agent = AgentRunner.from_llm(\n",
    "    [multiply_tool, add_tool, retriever_tool, get_local_time], llm=llm, verbose=True\n",
    ")"
   ]
  },
  {
   "cell_type": "code",
   "execution_count": 46,
   "metadata": {
    "ExecuteTime": {
     "end_time": "2024-09-24T02:48:22.410083Z",
     "start_time": "2024-09-24T02:48:22.403878Z"
    }
   },
   "outputs": [],
   "source": [
    "from llama_index.core.workflow import (\n",
    "    StartEvent,\n",
    "    StopEvent,\n",
    "    Workflow,\n",
    "    step,\n",
    ")"
   ]
  },
  {
   "cell_type": "code",
   "execution_count": 47,
   "metadata": {
    "ExecuteTime": {
     "end_time": "2024-09-24T02:48:24.106159Z",
     "start_time": "2024-09-24T02:48:24.088766Z"
    }
   },
   "outputs": [],
   "source": [
    "class Flow(Workflow):\n",
    "    @step\n",
    "    async def step(self,ev:StartEvent) -> StopEvent:\n",
    "        question = ev.get(\"input\")\n",
    "        responce = agent.chat(question)\n",
    "        return StopEvent(result=str(responce))\n"
   ]
  },
  {
   "cell_type": "code",
   "execution_count": 48,
   "metadata": {
    "ExecuteTime": {
     "end_time": "2024-09-24T02:48:33.963780Z",
     "start_time": "2024-09-24T02:48:25.738903Z"
    }
   },
   "outputs": [
    {
     "name": "stdout",
     "output_type": "stream",
     "text": [
      "> Running step f598ce2c-3d66-4f70-bc2b-dcb7690f169f. Step input: 杀人犯什么罪？\n",
      "\u001B[1;3;38;5;200mThought: The user is asking a legal question, so I should use the law_tools tool to get the answer.\n",
      "Action: law_tools\n",
      "Action Input: {'input': '杀人犯什么罪？'}\n",
      "\u001B[0m\u001B[1;3;34mObservation: file_path = d:\\code\\law_llama_system\\Law-Book\\7-刑法\\刑法.md\n",
      "第四章 侵犯公民人身权利、民主权利罪\n",
      "\n",
      "第二百三十二条 故意杀人的，处死刑、无期徒刑或者十年以上有期徒刑；情节较轻的，处三年以上十年以下有期徒刑。\n",
      "\n",
      "第二百三十三条 过失致人死亡的，处三年以上七年以下有期徒刑；情节较轻的，处三年以下有期徒刑。本法另有规定的，依照规定。\n",
      "\n",
      "第二百三十四条 故意伤害他人身体的，处三年以下有期徒刑、拘役或者管制。\n",
      "\n",
      "犯前款罪，致人重伤的，处三年以上十年以下有期徒刑；致人死亡或者以特别残忍手段致人重伤造成严重残疾的，处十年以上有期徒刑、无期徒刑或者死刑。本法另有规定的，依照规定。\n",
      "\n",
      "第二百三十四条之一 组织他人出卖人体器官的，处五年以下有期徒刑，并处罚金；情节严重的，处五年以上有期徒刑，并处罚金或者没收财产。\n",
      "\n",
      "未经本人同意摘取其器官，或者摘取不满十八周岁的人的器官，或者强迫、欺骗他人捐献器官的，依照本法第二百三十四条、第二百三十二条的规定定罪处罚。\n",
      "\n",
      "file_path = d:\\code\\law_llama_system\\Law-Book\\7-刑法\\刑法.md\n",
      "第三百零一条 聚众进行淫乱活动的，对首要分子或者多次参加的，处五年以下有期徒刑、拘役或者管制。\n",
      "\n",
      "引诱未成年人参加聚众淫乱活动的，依照前款的规定从重处罚。\n",
      "\n",
      "第三百零二条 盗窃、侮辱、故意毁坏尸体、尸骨、骨灰的，处三年以下有期徒刑、拘役或者管制。\n",
      "\n",
      "第三百零三条 以营利为目的，聚众赌博或者以赌博为业的，处三年以下有期徒刑、拘役或者管制，并处罚金。\n",
      "\n",
      "开设赌场的，处五年以下有期徒刑、拘役或者管制，并处罚金；情节严重的，处五年以上十年以下有期徒刑，并处罚金。\n",
      "\n",
      "组织中华人民共和国公民参与国（境）外赌博，数额巨大或者有其他严重情节的，依照前款的规定处罚。\n",
      "\n",
      "第三百零四条 邮政工作人员严重不负责任，故意延误投递邮件，致使公共财产、国家和人民利益遭受重大损失的，处二年以下有期徒刑或者拘役。\n",
      "\n",
      "\n",
      "\u001B[0m> Running step 4efcc5f0-f053-467f-8cb1-35ae81f21bf0. Step input: None\n",
      "\u001B[1;3;38;5;200mThought: The law_tools tool provided the relevant法律information. Based on the observation, a person who commits murder can be found in the \"第四章 侵犯公民人身权利、民主权利罪\" section, specifically in the \"第二百三十二条\" article, which states that murder is punishable by death, life imprisonment, or imprisonment of more than ten years; for a lighter circumstances, the punishment is imprisonment of more than three years and less than ten years.\n",
      "Answer: 杀人犯的罪名是“故意杀人罪”，根据刑法的第二百三十二条，故意杀人的，处死刑、无期徒刑或者十年以上有期徒刑；情节较轻的，处三年以上十年以下有期徒刑。\n",
      "\u001B[0m杀人犯的罪名是“故意杀人罪”，根据刑法的第二百三十二条，故意杀人的，处死刑、无期徒刑或者十年以上有期徒刑；情节较轻的，处三年以上十年以下有期徒刑。\n"
     ]
    }
   ],
   "source": [
    "w = Flow(timeout=10, verbose=False)\n",
    "result = await w.run(input = \"\"\"杀人犯什么罪？\"\"\")\n",
    "print(result)"
   ]
  },
  {
   "cell_type": "code",
   "execution_count": 40,
   "metadata": {
    "ExecuteTime": {
     "end_time": "2024-09-24T02:47:33.915523Z",
     "start_time": "2024-09-24T02:47:33.908009Z"
    }
   },
   "outputs": [
    {
     "name": "stdout",
     "output_type": "stream",
     "text": [
      "杀人犯的罪名是故意杀人罪，根据我国刑法的规定，故意杀人的，处死刑、无期徒刑或者十年以上有期徒刑；情节较轻的，处三年以上十年以下有期徒刑。\n"
     ]
    }
   ],
   "source": [
    "print(result)"
   ]
  },
  {
   "cell_type": "code",
   "execution_count": 49,
   "metadata": {
    "ExecuteTime": {
     "end_time": "2024-09-24T02:48:34.876631Z",
     "start_time": "2024-09-24T02:48:33.972075Z"
    }
   },
   "outputs": [
    {
     "name": "stdout",
     "output_type": "stream",
     "text": [
      "> Running step 1787590b-4516-4afd-b617-886dc1a36fde. Step input: 现在是什么时候，距离10月1日还有几天？\n",
      "\u001B[1;3;38;5;200mThought: (Implicit) I can answer without any more tools!\n",
      "Answer: get_now\n",
      "{}\n",
      "\u001B[0m"
     ]
    },
    {
     "data": {
      "text/plain": [
       "AgentChatResponse(response='get_now\\n{}', sources=[], source_nodes=[], is_dummy_stream=False, metadata=None)"
      ]
     },
     "execution_count": 49,
     "metadata": {},
     "output_type": "execute_result"
    }
   ],
   "source": [
    "agent.chat(\"\"\"现在是什么时候，距离10月1日还有几天？\"\"\")"
   ]
  },
  {
   "cell_type": "code",
   "execution_count": 50,
   "metadata": {
    "ExecuteTime": {
     "end_time": "2024-09-24T02:48:45.037265Z",
     "start_time": "2024-09-24T02:48:43.541411Z"
    }
   },
   "outputs": [
    {
     "name": "stdout",
     "output_type": "stream",
     "text": [
      "> Running step 470c2a24-597f-4da5-82d1-49686f3de443. Step input: 计算10×6,同时1+281313的值是多少？\n",
      "\u001B[1;3;38;5;200mThought: (Implicit) I can answer without any more tools!\n",
      "Answer: multiply\n",
      "{\"a\": 10, \"b\": 6}\n",
      "\u001B[0m"
     ]
    },
    {
     "data": {
      "text/plain": [
       "AgentChatResponse(response='multiply\\n{\"a\": 10, \"b\": 6}', sources=[], source_nodes=[], is_dummy_stream=False, metadata=None)"
      ]
     },
     "execution_count": 50,
     "metadata": {},
     "output_type": "execute_result"
    }
   ],
   "source": [
    "agent.chat(\"\"\"计算10×6,同时1+281313的值是多少？\"\"\")"
   ]
  }
 ],
 "metadata": {
  "kernelspec": {
   "display_name": "llama",
   "language": "python",
   "name": "python3"
  },
  "language_info": {
   "codemirror_mode": {
    "name": "ipython",
    "version": 3
   },
   "file_extension": ".py",
   "mimetype": "text/x-python",
   "name": "python",
   "nbconvert_exporter": "python",
   "pygments_lexer": "ipython3",
   "version": "3.9.19"
  }
 },
 "nbformat": 4,
 "nbformat_minor": 2
}
