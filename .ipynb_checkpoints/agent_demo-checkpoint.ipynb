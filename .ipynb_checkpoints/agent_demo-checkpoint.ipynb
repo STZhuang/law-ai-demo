{
 "cells": [
  {
   "cell_type": "markdown",
   "metadata": {},
   "source": [
    "# 建立一个工作流"
   ]
  },
  {
   "cell_type": "markdown",
   "metadata": {},
   "source": [
    "## 导入一些代码"
   ]
  },
  {
   "cell_type": "code",
   "metadata": {
    "ExecuteTime": {
     "end_time": "2024-09-18T05:57:20.382311Z",
     "start_time": "2024-09-18T05:57:16.528265Z"
    }
   },
   "source": [
    "from llama_index.core.tools import FunctionTool\n",
    "from llama_index.core.agent import ReActAgent\n",
    "from Model import DeepseekAi\n",
    "from Embedding import BGEEbedding\n",
    "from llama_index.core.tools import QueryEngineTool, ToolMetadata,RetrieverTool\n",
    "import logging\n",
    "from config import Config\n",
    "from load_from_chroma import get_index_from_chroma\n",
    "from llama_index.core.agent import AgentRunner\n",
    "\n",
    "logging.getLogger(\"agent_demo\").setLevel(logging.INFO)\n",
    "embd_model = BGEEbedding()\n",
    "# define sample Tool\n",
    "\n",
    "# initialize llm\n",
    "llm = DeepseekAi(temperature=0.5)\n",
    "\n",
    "# initialize ReAct agent"
   ],
   "outputs": [],
   "execution_count": 2
  },
  {
   "cell_type": "code",
   "metadata": {
    "ExecuteTime": {
     "end_time": "2024-09-18T05:57:21.506553Z",
     "start_time": "2024-09-18T05:57:20.389705Z"
    }
   },
   "source": [
    "chroma_index = get_index_from_chroma(path=\".\\\\LawDb\",collection=\"laws\",embedding_model=embd_model)"
   ],
   "outputs": [],
   "execution_count": 3
  },
  {
   "cell_type": "code",
   "metadata": {
    "ExecuteTime": {
     "end_time": "2024-09-18T05:57:21.583421Z",
     "start_time": "2024-09-18T05:57:21.569983Z"
    }
   },
   "source": [
    "# a.retrieve(\"\"\"杀人\"\"\")"
   ],
   "outputs": [],
   "execution_count": 4
  },
  {
   "cell_type": "code",
   "metadata": {
    "ExecuteTime": {
     "end_time": "2024-09-18T05:57:21.614360Z",
     "start_time": "2024-09-18T05:57:21.600114Z"
    }
   },
   "source": [
    "import datetime\n",
    "\n",
    "\n",
    "retriver_tool = RetrieverTool(\n",
    "    retriever=chroma_index.as_retriever(),\n",
    "    metadata=ToolMetadata(\n",
    "        name=\"law_tools\",\n",
    "        description=\"\"\"\n",
    "             用户询问关于法律的任何信息时，调用此工具。\n",
    "            \"\"\",\n",
    "    ),\n",
    ")\n",
    "def get_now():\n",
    "    \"\"\"获取现在的年份，月份，日期和时间\"\"\"\n",
    "    return datetime.datetime.now()\n",
    "\n",
    "\n",
    "def multiply(a: int, b: int) -> int:\n",
    "    \"\"\"计算a和b的乘积并返回结果\"\"\"\n",
    "    return a * b\n",
    "\n",
    "\n",
    "def add(a: int, b: int) -> int:\n",
    "    \"\"\"计算a和b的和并返回结果\"\"\"\n",
    "    return a + b\n",
    "multiply_tool = FunctionTool.from_defaults(fn=multiply)\n",
    "add_tool = FunctionTool.from_defaults(fn=add)\n",
    "get_local_time = FunctionTool.from_defaults(fn=get_now)\n",
    "\n",
    "retriever_tool = RetrieverTool(\n",
    "    retriever=chroma_index.as_retriever(),\n",
    "    metadata=ToolMetadata(\n",
    "        name=\"law_tools\",\n",
    "        description=\"\"\"\n",
    "             用户询问关于法律的任何信息时，调用此工具。\n",
    "            \"\"\",\n",
    "    ),\n",
    ")"
   ],
   "outputs": [],
   "execution_count": 5
  },
  {
   "cell_type": "code",
   "metadata": {
    "ExecuteTime": {
     "end_time": "2024-09-18T05:57:21.644304Z",
     "start_time": "2024-09-18T05:57:21.631889Z"
    }
   },
   "source": [
    "agent = AgentRunner.from_llm(\n",
    "    [multiply_tool, add_tool, retriever_tool, get_local_time], llm=llm, verbose=True\n",
    ")"
   ],
   "outputs": [],
   "execution_count": 6
  },
  {
   "cell_type": "code",
   "metadata": {
    "ExecuteTime": {
     "end_time": "2024-09-18T05:57:21.690528Z",
     "start_time": "2024-09-18T05:57:21.661154Z"
    }
   },
   "source": [
    "from llama_index.core.workflow import (\n",
    "    StartEvent,\n",
    "    StopEvent,\n",
    "    Workflow,\n",
    "    step,\n",
    ")"
   ],
   "outputs": [],
   "execution_count": 7
  },
  {
   "cell_type": "code",
   "metadata": {
    "ExecuteTime": {
     "end_time": "2024-09-18T05:57:23.374149Z",
     "start_time": "2024-09-18T05:57:23.360773Z"
    }
   },
   "source": [
    "class Flow(Workflow):\n",
    "    @step\n",
    "    async def step(self,ev:StartEvent) -> StopEvent:\n",
    "        question = ev.get(\"input\")\n",
    "        responce = agent.chat(question)\n",
    "        return StopEvent(result=str(responce))\n"
   ],
   "outputs": [],
   "execution_count": 8
  },
  {
   "metadata": {},
   "cell_type": "code",
   "outputs": [],
   "execution_count": null,
   "source": [
    "w = Flow(timeout=10, verbose=False)\n",
    "result = await w.run(input = \"\"\"杀人犯什么罪？\"\"\")\n",
    "print(result)"
   ]
  },
  {
   "cell_type": "code",
   "metadata": {
    "ExecuteTime": {
     "end_time": "2024-09-18T05:57:59.624893Z",
     "start_time": "2024-09-18T05:57:59.619657Z"
    }
   },
   "source": "print(result)",
   "outputs": [
    {
     "name": "stdout",
     "output_type": "stream",
     "text": [
      "根据中国刑法，故意杀人的，处死刑、无期徒刑或者十年以上有期徒刑；情节较轻的，处三年以上十年以下有期徒刑。过失致人死亡的，处三年以上七年以下有期徒刑；情节较轻的，处三年以下有期徒刑。\n"
     ]
    }
   ],
   "execution_count": 11
  },
  {
   "cell_type": "code",
   "execution_count": 34,
   "metadata": {},
   "outputs": [
    {
     "name": "stdout",
     "output_type": "stream",
     "text": [
      "> Running step 94b427fb-2f73-4122-ae81-4911460655d7. Step input: 现在距离10月1日还有几天？\n",
      "\u001B[1;3;38;5;200mThought: The current language of the user is: Chinese. I need to use a tool to help me answer the question.\n",
      "Action: get_now\n",
      "Action Input: {}\n",
      "\u001B[0m\u001B[1;3;34mObservation: 2024-09-18 11:28:54.544807\n",
      "\u001B[0m> Running step 026b3b3b-3276-47a6-9d6d-176dd264d5f3. Step input: None\n",
      "\u001B[1;3;38;5;200mThought: I can answer without using any more tools. I'll use the user's language to answer\n",
      "Answer: 现在距离10月1日还有13天。\n",
      "\u001B[0m"
     ]
    },
    {
     "data": {
      "text/plain": [
       "AgentChatResponse(response='现在距离10月1日还有13天。', sources=[ToolOutput(content='2024-09-18 11:28:54.544807', tool_name='get_now', raw_input={'args': (), 'kwargs': {}}, raw_output=datetime.datetime(2024, 9, 18, 11, 28, 54, 544807), is_error=False)], source_nodes=[], is_dummy_stream=False, metadata=None)"
      ]
     },
     "execution_count": 34,
     "metadata": {},
     "output_type": "execute_result"
    }
   ],
   "source": [
    "agent.chat(\"\"\"现在距离10月1日还有几天？\"\"\")"
   ]
  },
  {
   "cell_type": "code",
   "execution_count": 16,
   "metadata": {},
   "outputs": [
    {
     "name": "stdout",
     "output_type": "stream",
     "text": [
      "> Running step c31636cc-ce86-4bb9-b0e1-076b2d2d8132. Step input: 计算10×6,同时1+281313的值是多少？\n",
      "\u001B[1;3;38;5;200mThought: The current language of the user is: Chinese. I need to use tools to help me answer the question.\n",
      "Action: multiply\n",
      "Action Input: {'a': 10, 'b': 6}\n",
      "\u001B[0m\u001B[1;3;34mObservation: 60\n",
      "\u001B[0m> Running step cf9b912e-60dd-4c72-9155-4c18e7a9022f. Step input: None\n",
      "\u001B[1;3;38;5;200mThought: The current language of the user is: Chinese. I need to use another tool to help me answer the question.\n",
      "Action: add\n",
      "Action Input: {'a': 1, 'b': 281313}\n",
      "\u001B[0m\u001B[1;3;34mObservation: 281314\n",
      "\u001B[0m> Running step fda33485-6156-4563-a7d3-c3519213c53f. Step input: None\n",
      "\u001B[1;3;38;5;200mThought: I can answer without using any more tools. I'll use the user's language to answer.\n",
      "Answer: 10×6的结果是60，1+281313的结果是281314。\n",
      "\u001B[0m"
     ]
    },
    {
     "data": {
      "text/plain": [
       "AgentChatResponse(response='10×6的结果是60，1+281313的结果是281314。', sources=[ToolOutput(content='60', tool_name='multiply', raw_input={'args': (), 'kwargs': {'a': 10, 'b': 6}}, raw_output=60, is_error=False), ToolOutput(content='281314', tool_name='add', raw_input={'args': (), 'kwargs': {'a': 1, 'b': 281313}}, raw_output=281314, is_error=False)], source_nodes=[], is_dummy_stream=False, metadata=None)"
      ]
     },
     "execution_count": 16,
     "metadata": {},
     "output_type": "execute_result"
    }
   ],
   "source": [
    "agent.chat(\"\"\"计算10×6,同时1+281313的值是多少？\"\"\")"
   ]
  }
 ],
 "metadata": {
  "kernelspec": {
   "display_name": "llama",
   "language": "python",
   "name": "python3"
  },
  "language_info": {
   "codemirror_mode": {
    "name": "ipython",
    "version": 3
   },
   "file_extension": ".py",
   "mimetype": "text/x-python",
   "name": "python",
   "nbconvert_exporter": "python",
   "pygments_lexer": "ipython3",
   "version": "3.9.19"
  }
 },
 "nbformat": 4,
 "nbformat_minor": 2
}
