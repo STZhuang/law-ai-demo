{
 "cells": [
  {
   "cell_type": "markdown",
   "id": "a7a2f1f9f8a826ca",
   "metadata": {},
   "source": [
    "# 法律检索\n",
    "\n",
    "## 导入包"
   ]
  },
  {
   "cell_type": "code",
   "execution_count": 4,
   "id": "initial_id",
   "metadata": {
    "ExecuteTime": {
     "end_time": "2024-09-12T08:37:29.048271Z",
     "start_time": "2024-09-12T08:37:29.030278Z"
    },
    "collapsed": true
   },
   "outputs": [],
   "source": [
    "from llama_index.core import DocumentSummaryIndex,SimpleDirectoryReader,Settings\n",
    "from config import Config\n",
    "from model import DeepseekAi\n",
    "from Embedding import BGEEbedding"
   ]
  },
  {
   "cell_type": "markdown",
   "id": "74a0f8bff09c5171",
   "metadata": {},
   "source": [
    "## 定义模型"
   ]
  },
  {
   "cell_type": "code",
   "execution_count": 5,
   "id": "b5345459cd6f7a0d",
   "metadata": {
    "ExecuteTime": {
     "end_time": "2024-09-12T08:37:31.332176Z",
     "start_time": "2024-09-12T08:37:31.074158Z"
    }
   },
   "outputs": [],
   "source": [
    "embedding = BGEEbedding()\n",
    "llms = DeepseekAi(**Config.get_config())"
   ]
  },
  {
   "cell_type": "markdown",
   "id": "9ea13620e6813d59",
   "metadata": {},
   "source": [
    "## 加载文档"
   ]
  },
  {
   "cell_type": "code",
   "execution_count": 7,
   "id": "38b38aae0c7bddef",
   "metadata": {
    "ExecuteTime": {
     "end_time": "2024-09-12T08:42:39.751851Z",
     "start_time": "2024-09-12T08:42:39.261957Z"
    }
   },
   "outputs": [],
   "source": [
    "law_documents = SimpleDirectoryReader(\n",
    "    input_dir=\"\"\".\\\\Law-Book\"\"\",\n",
    "    required_exts=[\".md\"],\n",
    "    recursive=True\n",
    ").load_data()"
   ]
  },
  {
   "cell_type": "markdown",
   "id": "31057c7ebb8f4200",
   "metadata": {},
   "source": [
    "## 使用摘要索引的方法"
   ]
  },
  {
   "cell_type": "code",
   "execution_count": null,
   "id": "e3806aa310da12a7",
   "metadata": {},
   "outputs": [],
   "source": [
    "summary_indef = DocumentSummaryIndex(\n",
    "    nodes=law_documents,\n",
    "    llms=llms,\n",
    "    embed_model=embedding,\n",
    "    \n",
    ")"
   ]
  }
 ],
 "metadata": {
  "kernelspec": {
   "display_name": "Python 3",
   "language": "python",
   "name": "python3"
  },
  "language_info": {
   "codemirror_mode": {
    "name": "ipython",
    "version": 2
   },
   "file_extension": ".py",
   "mimetype": "text/x-python",
   "name": "python",
   "nbconvert_exporter": "python",
   "pygments_lexer": "ipython2",
   "version": "3.9.19"
  }
 },
 "nbformat": 4,
 "nbformat_minor": 5
}
