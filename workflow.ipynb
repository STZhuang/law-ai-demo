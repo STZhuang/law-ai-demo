{
 "cells": [
  {
   "cell_type": "markdown",
   "metadata": {},
   "source": [
    "# llama-index工作流图"
   ]
  },
  {
   "cell_type": "markdown",
   "metadata": {},
   "source": [
    "## 加载一些库"
   ]
  },
  {
   "cell_type": "markdown",
   "metadata": {},
   "source": [
    "### 工作流相关库"
   ]
  },
  {
   "cell_type": "code",
   "execution_count": 1,
   "metadata": {},
   "outputs": [],
   "source": [
    "from llama_index.core.workflow import StopEvent,StartEvent,Event,step,Workflow"
   ]
  },
  {
   "cell_type": "markdown",
   "metadata": {},
   "source": [
    "### llm和嵌入"
   ]
  },
  {
   "cell_type": "code",
   "execution_count": 2,
   "metadata": {},
   "outputs": [],
   "source": [
    "from llama_index.llms.glm import GLM"
   ]
  },
  {
   "cell_type": "code",
   "execution_count": 7,
   "metadata": {},
   "outputs": [],
   "source": [
    "llm_model = GLM(model=\"glm-4\")"
   ]
  },
  {
   "cell_type": "code",
   "execution_count": 8,
   "metadata": {},
   "outputs": [
    {
     "name": "stdout",
     "output_type": "stream",
     "text": [
      "雷军是中国企业家，出生于1969年，湖北省仙桃市人。他毕业于武汉大学，获得了计算机科学与技术的学士学位。雷军是中国科技行业的知名人物，尤其在互联网和智能手机领域有着重要的影响力。\n",
      "\n",
      "雷军最为人熟知的身份是小米科技的创始人和首席执行官。小米成立于2010年，以互联网模式打造智能手机和其他电子产品，迅速崛起成为中国乃至全球智能手机市场的重要玩家。小米以高性价比和互联网营销策略获得了巨大成功，雷军也因此成为了中国科技界的标志性人物之一。\n",
      "\n",
      "在创立小米之前，雷军曾在金山软件公司工作多年，并担任过总裁等职务，对中国的软件产业也有重要贡献。他还是一位成功的天使投资人，投资了多个互联网创业公司。\n",
      "\n",
      "雷军以其独特的管理理念、对产品质量和用户体验的执着追求，以及在商业战略上的敏锐洞察力，受到了业界的广泛认可。他提倡的“厚道、务实、高效、开放”的企业文化，对小米的发展壮大起到了关键作用。"
     ]
    }
   ],
   "source": [
    "# non-streaming\n",
    "\n",
    "# using streaming endpoint\n",
    "\n",
    "completions = llm_model.stream_complete(\"简单介绍雷军：\")\n",
    "for completion in completions:\n",
    "    print(completion.delta, end=\"\")\n",
    "\n"
   ]
  },
  {
   "cell_type": "code",
   "execution_count": 11,
   "metadata": {},
   "outputs": [
    {
     "name": "stdout",
     "output_type": "stream",
     "text": [
      "assistant: 作为一个人工智能助手，我没有访问您个人信息的能力，因此无法知道您是谁。在这个平台上，您可以选择保持匿名，或者告诉我您想让我称呼的名字或身份。如果您有任何问题或需要帮助，请随时告诉我。\n"
     ]
    }
   ],
   "source": [
    "from llama_index.core.llms import ChatMessage\n",
    "\n",
    "messages = [\n",
    "    ChatMessage(role=\"system\", content=\"你是一个ai助手\"),\n",
    "    ChatMessage(role=\"user\", content=\"我是zxh，请多多关照。\"),\n",
    "    ChatMessage(role=\"user\", content=\"请问我是谁？\"),\n",
    "]\n",
    "resp = llm_model.chat(messages)\n",
    "print(resp)"
   ]
  }
 ],
 "metadata": {
  "kernelspec": {
   "display_name": "llama",
   "language": "python",
   "name": "python3"
  },
  "language_info": {
   "codemirror_mode": {
    "name": "ipython",
    "version": 3
   },
   "file_extension": ".py",
   "mimetype": "text/x-python",
   "name": "python",
   "nbconvert_exporter": "python",
   "pygments_lexer": "ipython3",
   "version": "3.9.19"
  }
 },
 "nbformat": 4,
 "nbformat_minor": 2
}
